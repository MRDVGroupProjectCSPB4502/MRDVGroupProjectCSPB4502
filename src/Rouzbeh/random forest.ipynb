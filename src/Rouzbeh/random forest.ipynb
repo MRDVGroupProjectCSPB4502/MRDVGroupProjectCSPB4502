{
 "cells": [
  {
   "cell_type": "code",
   "execution_count": 1,
   "metadata": {},
   "outputs": [],
   "source": [
    "import numpy as np\n",
    "from numpy import trapz\n",
    "import pandas as pd\n",
    "\n",
    "from os import listdir\n",
    "\n",
    "import matplotlib.pyplot as plt\n",
    "import matplotlib.ticker as plticker\n",
    "import matplotlib.style as style\n",
    "style.use('seaborn-whitegrid')\n",
    "font = {'size' : 12}\n",
    "figure = {'titlesize' : 18}\n",
    "plt.rc('font', **font)\n",
    "plt.rc('figure', **figure)\n",
    "\n",
    "import seaborn as sns\n",
    "sns.set(font_scale=1.2)\n",
    "\n",
    "from sklearn import preprocessing\n",
    "from sklearn.model_selection import train_test_split, GridSearchCV, cross_val_score\n",
    "from sklearn.metrics import accuracy_score, classification_report, f1_score, confusion_matrix\n",
    "from sklearn.ensemble import RandomForestClassifier\n",
    "\n",
    "from tqdm import tqdm\n",
    "from tabulate import tabulate\n",
    "\n",
    "pd.set_option('display.max_columns', None)\n",
    "pd.set_option('display.float_format', lambda x: '%.2f' % x)"
   ]
  },
  {
   "cell_type": "markdown",
   "metadata": {},
   "source": [
    "---"
   ]
  },
  {
   "cell_type": "markdown",
   "metadata": {},
   "source": [
    "# Import"
   ]
  },
  {
   "cell_type": "code",
   "execution_count": 2,
   "metadata": {},
   "outputs": [],
   "source": [
    "path = 'datasets/'\n",
    "df = pd.read_csv(path + 'US_youtube_trending_data.csv')"
   ]
  },
  {
   "cell_type": "markdown",
   "metadata": {},
   "source": [
    "---"
   ]
  },
  {
   "cell_type": "markdown",
   "metadata": {},
   "source": [
    "# Overview"
   ]
  },
  {
   "cell_type": "code",
   "execution_count": 3,
   "metadata": {},
   "outputs": [
    {
     "data": {
      "text/plain": [
       "(56391, 16)"
      ]
     },
     "execution_count": 3,
     "metadata": {},
     "output_type": "execute_result"
    }
   ],
   "source": [
    "df.shape"
   ]
  },
  {
   "cell_type": "code",
   "execution_count": 4,
   "metadata": {},
   "outputs": [
    {
     "data": {
      "text/plain": [
       "Index(['video_id', 'title', 'publishedAt', 'channelId', 'channelTitle',\n",
       "       'categoryId', 'trending_date', 'tags', 'view_count', 'likes',\n",
       "       'dislikes', 'comment_count', 'thumbnail_link', 'comments_disabled',\n",
       "       'ratings_disabled', 'description'],\n",
       "      dtype='object')"
      ]
     },
     "execution_count": 4,
     "metadata": {},
     "output_type": "execute_result"
    }
   ],
   "source": [
    "df.columns"
   ]
  },
  {
   "cell_type": "code",
   "execution_count": 5,
   "metadata": {},
   "outputs": [
    {
     "data": {
      "text/html": [
       "<div>\n",
       "<style scoped>\n",
       "    .dataframe tbody tr th:only-of-type {\n",
       "        vertical-align: middle;\n",
       "    }\n",
       "\n",
       "    .dataframe tbody tr th {\n",
       "        vertical-align: top;\n",
       "    }\n",
       "\n",
       "    .dataframe thead th {\n",
       "        text-align: right;\n",
       "    }\n",
       "</style>\n",
       "<table border=\"1\" class=\"dataframe\">\n",
       "  <thead>\n",
       "    <tr style=\"text-align: right;\">\n",
       "      <th></th>\n",
       "      <th>video_id</th>\n",
       "      <th>title</th>\n",
       "      <th>publishedAt</th>\n",
       "      <th>channelId</th>\n",
       "      <th>channelTitle</th>\n",
       "      <th>categoryId</th>\n",
       "      <th>trending_date</th>\n",
       "      <th>tags</th>\n",
       "      <th>view_count</th>\n",
       "      <th>likes</th>\n",
       "      <th>dislikes</th>\n",
       "      <th>comment_count</th>\n",
       "      <th>thumbnail_link</th>\n",
       "      <th>comments_disabled</th>\n",
       "      <th>ratings_disabled</th>\n",
       "      <th>description</th>\n",
       "    </tr>\n",
       "  </thead>\n",
       "  <tbody>\n",
       "    <tr>\n",
       "      <th>0</th>\n",
       "      <td>3C66w5Z0ixs</td>\n",
       "      <td>I ASKED HER TO BE MY GIRLFRIEND...</td>\n",
       "      <td>2020-08-11T19:20:14Z</td>\n",
       "      <td>UCvtRTOMP2TqYqu51xNrqAzg</td>\n",
       "      <td>Brawadis</td>\n",
       "      <td>22</td>\n",
       "      <td>2020-08-12T00:00:00Z</td>\n",
       "      <td>brawadis|prank|basketball|skits|ghost|funny vi...</td>\n",
       "      <td>1514614</td>\n",
       "      <td>156908</td>\n",
       "      <td>5855</td>\n",
       "      <td>35313</td>\n",
       "      <td>https://i.ytimg.com/vi/3C66w5Z0ixs/default.jpg</td>\n",
       "      <td>False</td>\n",
       "      <td>False</td>\n",
       "      <td>SUBSCRIBE to BRAWADIS ▶ http://bit.ly/Subscrib...</td>\n",
       "    </tr>\n",
       "    <tr>\n",
       "      <th>1</th>\n",
       "      <td>M9Pmf9AB4Mo</td>\n",
       "      <td>Apex Legends | Stories from the Outlands – “Th...</td>\n",
       "      <td>2020-08-11T17:00:10Z</td>\n",
       "      <td>UC0ZV6M2THA81QT9hrVWJG3A</td>\n",
       "      <td>Apex Legends</td>\n",
       "      <td>20</td>\n",
       "      <td>2020-08-12T00:00:00Z</td>\n",
       "      <td>Apex Legends|Apex Legends characters|new Apex ...</td>\n",
       "      <td>2381688</td>\n",
       "      <td>146739</td>\n",
       "      <td>2794</td>\n",
       "      <td>16549</td>\n",
       "      <td>https://i.ytimg.com/vi/M9Pmf9AB4Mo/default.jpg</td>\n",
       "      <td>False</td>\n",
       "      <td>False</td>\n",
       "      <td>While running her own modding shop, Ramya Pare...</td>\n",
       "    </tr>\n",
       "    <tr>\n",
       "      <th>2</th>\n",
       "      <td>J78aPJ3VyNs</td>\n",
       "      <td>I left youtube for a month and THIS is what ha...</td>\n",
       "      <td>2020-08-11T16:34:06Z</td>\n",
       "      <td>UCYzPXprvl5Y-Sf0g4vX-m6g</td>\n",
       "      <td>jacksepticeye</td>\n",
       "      <td>24</td>\n",
       "      <td>2020-08-12T00:00:00Z</td>\n",
       "      <td>jacksepticeye|funny|funny meme|memes|jacksepti...</td>\n",
       "      <td>2038853</td>\n",
       "      <td>353787</td>\n",
       "      <td>2628</td>\n",
       "      <td>40221</td>\n",
       "      <td>https://i.ytimg.com/vi/J78aPJ3VyNs/default.jpg</td>\n",
       "      <td>False</td>\n",
       "      <td>False</td>\n",
       "      <td>I left youtube for a month and this is what ha...</td>\n",
       "    </tr>\n",
       "    <tr>\n",
       "      <th>3</th>\n",
       "      <td>kXLn3HkpjaA</td>\n",
       "      <td>XXL 2020 Freshman Class Revealed - Official An...</td>\n",
       "      <td>2020-08-11T16:38:55Z</td>\n",
       "      <td>UCbg_UMjlHJg_19SZckaKajg</td>\n",
       "      <td>XXL</td>\n",
       "      <td>10</td>\n",
       "      <td>2020-08-12T00:00:00Z</td>\n",
       "      <td>xxl freshman|xxl freshmen|2020 xxl freshman|20...</td>\n",
       "      <td>496771</td>\n",
       "      <td>23251</td>\n",
       "      <td>1856</td>\n",
       "      <td>7647</td>\n",
       "      <td>https://i.ytimg.com/vi/kXLn3HkpjaA/default.jpg</td>\n",
       "      <td>False</td>\n",
       "      <td>False</td>\n",
       "      <td>Subscribe to XXL → http://bit.ly/subscribe-xxl...</td>\n",
       "    </tr>\n",
       "    <tr>\n",
       "      <th>4</th>\n",
       "      <td>VIUo6yapDbc</td>\n",
       "      <td>Ultimate DIY Home Movie Theater for The LaBran...</td>\n",
       "      <td>2020-08-11T15:10:05Z</td>\n",
       "      <td>UCDVPcEbVLQgLZX0Rt6jo34A</td>\n",
       "      <td>Mr. Kate</td>\n",
       "      <td>26</td>\n",
       "      <td>2020-08-12T00:00:00Z</td>\n",
       "      <td>The LaBrant Family|DIY|Interior Design|Makeove...</td>\n",
       "      <td>1123889</td>\n",
       "      <td>45802</td>\n",
       "      <td>964</td>\n",
       "      <td>2196</td>\n",
       "      <td>https://i.ytimg.com/vi/VIUo6yapDbc/default.jpg</td>\n",
       "      <td>False</td>\n",
       "      <td>False</td>\n",
       "      <td>Transforming The LaBrant Family's empty white ...</td>\n",
       "    </tr>\n",
       "  </tbody>\n",
       "</table>\n",
       "</div>"
      ],
      "text/plain": [
       "      video_id                                              title  \\\n",
       "0  3C66w5Z0ixs                 I ASKED HER TO BE MY GIRLFRIEND...   \n",
       "1  M9Pmf9AB4Mo  Apex Legends | Stories from the Outlands – “Th...   \n",
       "2  J78aPJ3VyNs  I left youtube for a month and THIS is what ha...   \n",
       "3  kXLn3HkpjaA  XXL 2020 Freshman Class Revealed - Official An...   \n",
       "4  VIUo6yapDbc  Ultimate DIY Home Movie Theater for The LaBran...   \n",
       "\n",
       "            publishedAt                 channelId   channelTitle  categoryId  \\\n",
       "0  2020-08-11T19:20:14Z  UCvtRTOMP2TqYqu51xNrqAzg       Brawadis          22   \n",
       "1  2020-08-11T17:00:10Z  UC0ZV6M2THA81QT9hrVWJG3A   Apex Legends          20   \n",
       "2  2020-08-11T16:34:06Z  UCYzPXprvl5Y-Sf0g4vX-m6g  jacksepticeye          24   \n",
       "3  2020-08-11T16:38:55Z  UCbg_UMjlHJg_19SZckaKajg            XXL          10   \n",
       "4  2020-08-11T15:10:05Z  UCDVPcEbVLQgLZX0Rt6jo34A       Mr. Kate          26   \n",
       "\n",
       "          trending_date                                               tags  \\\n",
       "0  2020-08-12T00:00:00Z  brawadis|prank|basketball|skits|ghost|funny vi...   \n",
       "1  2020-08-12T00:00:00Z  Apex Legends|Apex Legends characters|new Apex ...   \n",
       "2  2020-08-12T00:00:00Z  jacksepticeye|funny|funny meme|memes|jacksepti...   \n",
       "3  2020-08-12T00:00:00Z  xxl freshman|xxl freshmen|2020 xxl freshman|20...   \n",
       "4  2020-08-12T00:00:00Z  The LaBrant Family|DIY|Interior Design|Makeove...   \n",
       "\n",
       "   view_count   likes  dislikes  comment_count  \\\n",
       "0     1514614  156908      5855          35313   \n",
       "1     2381688  146739      2794          16549   \n",
       "2     2038853  353787      2628          40221   \n",
       "3      496771   23251      1856           7647   \n",
       "4     1123889   45802       964           2196   \n",
       "\n",
       "                                   thumbnail_link  comments_disabled  \\\n",
       "0  https://i.ytimg.com/vi/3C66w5Z0ixs/default.jpg              False   \n",
       "1  https://i.ytimg.com/vi/M9Pmf9AB4Mo/default.jpg              False   \n",
       "2  https://i.ytimg.com/vi/J78aPJ3VyNs/default.jpg              False   \n",
       "3  https://i.ytimg.com/vi/kXLn3HkpjaA/default.jpg              False   \n",
       "4  https://i.ytimg.com/vi/VIUo6yapDbc/default.jpg              False   \n",
       "\n",
       "   ratings_disabled                                        description  \n",
       "0             False  SUBSCRIBE to BRAWADIS ▶ http://bit.ly/Subscrib...  \n",
       "1             False  While running her own modding shop, Ramya Pare...  \n",
       "2             False  I left youtube for a month and this is what ha...  \n",
       "3             False  Subscribe to XXL → http://bit.ly/subscribe-xxl...  \n",
       "4             False  Transforming The LaBrant Family's empty white ...  "
      ]
     },
     "execution_count": 5,
     "metadata": {},
     "output_type": "execute_result"
    }
   ],
   "source": [
    "df.head()"
   ]
  },
  {
   "cell_type": "code",
   "execution_count": 6,
   "metadata": {},
   "outputs": [
    {
     "data": {
      "text/html": [
       "<div>\n",
       "<style scoped>\n",
       "    .dataframe tbody tr th:only-of-type {\n",
       "        vertical-align: middle;\n",
       "    }\n",
       "\n",
       "    .dataframe tbody tr th {\n",
       "        vertical-align: top;\n",
       "    }\n",
       "\n",
       "    .dataframe thead th {\n",
       "        text-align: right;\n",
       "    }\n",
       "</style>\n",
       "<table border=\"1\" class=\"dataframe\">\n",
       "  <thead>\n",
       "    <tr style=\"text-align: right;\">\n",
       "      <th></th>\n",
       "      <th>categoryId</th>\n",
       "      <th>view_count</th>\n",
       "      <th>likes</th>\n",
       "      <th>dislikes</th>\n",
       "      <th>comment_count</th>\n",
       "    </tr>\n",
       "  </thead>\n",
       "  <tbody>\n",
       "    <tr>\n",
       "      <th>count</th>\n",
       "      <td>56391.00</td>\n",
       "      <td>56391.00</td>\n",
       "      <td>56391.00</td>\n",
       "      <td>56391.00</td>\n",
       "      <td>56391.00</td>\n",
       "    </tr>\n",
       "    <tr>\n",
       "      <th>mean</th>\n",
       "      <td>18.62</td>\n",
       "      <td>2774104.35</td>\n",
       "      <td>152217.89</td>\n",
       "      <td>3419.31</td>\n",
       "      <td>15757.57</td>\n",
       "    </tr>\n",
       "    <tr>\n",
       "      <th>std</th>\n",
       "      <td>7.05</td>\n",
       "      <td>6495728.16</td>\n",
       "      <td>431041.45</td>\n",
       "      <td>15311.90</td>\n",
       "      <td>112172.57</td>\n",
       "    </tr>\n",
       "    <tr>\n",
       "      <th>min</th>\n",
       "      <td>1.00</td>\n",
       "      <td>0.00</td>\n",
       "      <td>0.00</td>\n",
       "      <td>0.00</td>\n",
       "      <td>0.00</td>\n",
       "    </tr>\n",
       "    <tr>\n",
       "      <th>25%</th>\n",
       "      <td>10.00</td>\n",
       "      <td>552122.50</td>\n",
       "      <td>21002.50</td>\n",
       "      <td>394.00</td>\n",
       "      <td>1912.00</td>\n",
       "    </tr>\n",
       "    <tr>\n",
       "      <th>50%</th>\n",
       "      <td>20.00</td>\n",
       "      <td>1140492.00</td>\n",
       "      <td>53286.00</td>\n",
       "      <td>925.00</td>\n",
       "      <td>4370.00</td>\n",
       "    </tr>\n",
       "    <tr>\n",
       "      <th>75%</th>\n",
       "      <td>24.00</td>\n",
       "      <td>2554232.00</td>\n",
       "      <td>133557.00</td>\n",
       "      <td>2517.00</td>\n",
       "      <td>10467.50</td>\n",
       "    </tr>\n",
       "    <tr>\n",
       "      <th>max</th>\n",
       "      <td>29.00</td>\n",
       "      <td>264407389.00</td>\n",
       "      <td>16021534.00</td>\n",
       "      <td>879354.00</td>\n",
       "      <td>6738537.00</td>\n",
       "    </tr>\n",
       "  </tbody>\n",
       "</table>\n",
       "</div>"
      ],
      "text/plain": [
       "       categoryId   view_count       likes  dislikes  comment_count\n",
       "count    56391.00     56391.00    56391.00  56391.00       56391.00\n",
       "mean        18.62   2774104.35   152217.89   3419.31       15757.57\n",
       "std          7.05   6495728.16   431041.45  15311.90      112172.57\n",
       "min          1.00         0.00        0.00      0.00           0.00\n",
       "25%         10.00    552122.50    21002.50    394.00        1912.00\n",
       "50%         20.00   1140492.00    53286.00    925.00        4370.00\n",
       "75%         24.00   2554232.00   133557.00   2517.00       10467.50\n",
       "max         29.00 264407389.00 16021534.00 879354.00     6738537.00"
      ]
     },
     "execution_count": 6,
     "metadata": {},
     "output_type": "execute_result"
    }
   ],
   "source": [
    "df.describe()"
   ]
  },
  {
   "cell_type": "markdown",
   "metadata": {},
   "source": [
    "---"
   ]
  },
  {
   "cell_type": "markdown",
   "metadata": {},
   "source": [
    "# Extracting dates"
   ]
  },
  {
   "cell_type": "code",
   "execution_count": 7,
   "metadata": {},
   "outputs": [
    {
     "data": {
      "text/html": [
       "<div>\n",
       "<style scoped>\n",
       "    .dataframe tbody tr th:only-of-type {\n",
       "        vertical-align: middle;\n",
       "    }\n",
       "\n",
       "    .dataframe tbody tr th {\n",
       "        vertical-align: top;\n",
       "    }\n",
       "\n",
       "    .dataframe thead th {\n",
       "        text-align: right;\n",
       "    }\n",
       "</style>\n",
       "<table border=\"1\" class=\"dataframe\">\n",
       "  <thead>\n",
       "    <tr style=\"text-align: right;\">\n",
       "      <th></th>\n",
       "      <th>publishedAt</th>\n",
       "      <th>trending_date</th>\n",
       "    </tr>\n",
       "  </thead>\n",
       "  <tbody>\n",
       "    <tr>\n",
       "      <th>32575</th>\n",
       "      <td>2021-01-17T13:48:43Z</td>\n",
       "      <td>2021-01-25T00:00:00Z</td>\n",
       "    </tr>\n",
       "    <tr>\n",
       "      <th>17441</th>\n",
       "      <td>2020-11-05T01:42:17Z</td>\n",
       "      <td>2020-11-08T00:00:00Z</td>\n",
       "    </tr>\n",
       "    <tr>\n",
       "      <th>19586</th>\n",
       "      <td>2020-11-11T22:00:11Z</td>\n",
       "      <td>2020-11-18T00:00:00Z</td>\n",
       "    </tr>\n",
       "    <tr>\n",
       "      <th>21321</th>\n",
       "      <td>2020-11-23T22:00:03Z</td>\n",
       "      <td>2020-11-28T00:00:00Z</td>\n",
       "    </tr>\n",
       "    <tr>\n",
       "      <th>3330</th>\n",
       "      <td>2020-08-26T12:30:41Z</td>\n",
       "      <td>2020-08-28T00:00:00Z</td>\n",
       "    </tr>\n",
       "  </tbody>\n",
       "</table>\n",
       "</div>"
      ],
      "text/plain": [
       "                publishedAt         trending_date\n",
       "32575  2021-01-17T13:48:43Z  2021-01-25T00:00:00Z\n",
       "17441  2020-11-05T01:42:17Z  2020-11-08T00:00:00Z\n",
       "19586  2020-11-11T22:00:11Z  2020-11-18T00:00:00Z\n",
       "21321  2020-11-23T22:00:03Z  2020-11-28T00:00:00Z\n",
       "3330   2020-08-26T12:30:41Z  2020-08-28T00:00:00Z"
      ]
     },
     "execution_count": 7,
     "metadata": {},
     "output_type": "execute_result"
    }
   ],
   "source": [
    "cols = ['publishedAt', 'trending_date']\n",
    "df[cols].sample(5)"
   ]
  },
  {
   "cell_type": "code",
   "execution_count": 8,
   "metadata": {},
   "outputs": [],
   "source": [
    "# extract year, month, day, and hour from time features\n",
    "\n",
    "date_formats = {'y':[0, 4], 'm':[5, 7], 'd':[8, 10], 'h':[11, 13]}\n",
    "for col in cols:\n",
    "    for key, [start, end] in date_formats.items():\n",
    "        df['{}_{}'.format(col, key)] = df[col].str[start:end].astype(int)"
   ]
  },
  {
   "cell_type": "code",
   "execution_count": 9,
   "metadata": {},
   "outputs": [],
   "source": [
    "# convert original time features to datetime\n",
    "\n",
    "for col in cols:\n",
    "    df[col] = pd.to_datetime(df[col], format='%Y-%m-%dT%H:%M:%SZ')"
   ]
  },
  {
   "cell_type": "code",
   "execution_count": 10,
   "metadata": {},
   "outputs": [
    {
     "data": {
      "text/html": [
       "<div>\n",
       "<style scoped>\n",
       "    .dataframe tbody tr th:only-of-type {\n",
       "        vertical-align: middle;\n",
       "    }\n",
       "\n",
       "    .dataframe tbody tr th {\n",
       "        vertical-align: top;\n",
       "    }\n",
       "\n",
       "    .dataframe thead th {\n",
       "        text-align: right;\n",
       "    }\n",
       "</style>\n",
       "<table border=\"1\" class=\"dataframe\">\n",
       "  <thead>\n",
       "    <tr style=\"text-align: right;\">\n",
       "      <th></th>\n",
       "      <th>video_id</th>\n",
       "      <th>title</th>\n",
       "      <th>publishedAt</th>\n",
       "      <th>channelId</th>\n",
       "      <th>channelTitle</th>\n",
       "      <th>categoryId</th>\n",
       "      <th>trending_date</th>\n",
       "      <th>tags</th>\n",
       "      <th>view_count</th>\n",
       "      <th>likes</th>\n",
       "      <th>dislikes</th>\n",
       "      <th>comment_count</th>\n",
       "      <th>thumbnail_link</th>\n",
       "      <th>comments_disabled</th>\n",
       "      <th>ratings_disabled</th>\n",
       "      <th>description</th>\n",
       "      <th>publishedAt_y</th>\n",
       "      <th>publishedAt_m</th>\n",
       "      <th>publishedAt_d</th>\n",
       "      <th>publishedAt_h</th>\n",
       "      <th>trending_date_y</th>\n",
       "      <th>trending_date_m</th>\n",
       "      <th>trending_date_d</th>\n",
       "      <th>trending_date_h</th>\n",
       "    </tr>\n",
       "  </thead>\n",
       "  <tbody>\n",
       "    <tr>\n",
       "      <th>0</th>\n",
       "      <td>3C66w5Z0ixs</td>\n",
       "      <td>I ASKED HER TO BE MY GIRLFRIEND...</td>\n",
       "      <td>2020-08-11 19:20:14</td>\n",
       "      <td>UCvtRTOMP2TqYqu51xNrqAzg</td>\n",
       "      <td>Brawadis</td>\n",
       "      <td>22</td>\n",
       "      <td>2020-08-12</td>\n",
       "      <td>brawadis|prank|basketball|skits|ghost|funny vi...</td>\n",
       "      <td>1514614</td>\n",
       "      <td>156908</td>\n",
       "      <td>5855</td>\n",
       "      <td>35313</td>\n",
       "      <td>https://i.ytimg.com/vi/3C66w5Z0ixs/default.jpg</td>\n",
       "      <td>False</td>\n",
       "      <td>False</td>\n",
       "      <td>SUBSCRIBE to BRAWADIS ▶ http://bit.ly/Subscrib...</td>\n",
       "      <td>2020</td>\n",
       "      <td>8</td>\n",
       "      <td>11</td>\n",
       "      <td>19</td>\n",
       "      <td>2020</td>\n",
       "      <td>8</td>\n",
       "      <td>12</td>\n",
       "      <td>0</td>\n",
       "    </tr>\n",
       "    <tr>\n",
       "      <th>1</th>\n",
       "      <td>M9Pmf9AB4Mo</td>\n",
       "      <td>Apex Legends | Stories from the Outlands – “Th...</td>\n",
       "      <td>2020-08-11 17:00:10</td>\n",
       "      <td>UC0ZV6M2THA81QT9hrVWJG3A</td>\n",
       "      <td>Apex Legends</td>\n",
       "      <td>20</td>\n",
       "      <td>2020-08-12</td>\n",
       "      <td>Apex Legends|Apex Legends characters|new Apex ...</td>\n",
       "      <td>2381688</td>\n",
       "      <td>146739</td>\n",
       "      <td>2794</td>\n",
       "      <td>16549</td>\n",
       "      <td>https://i.ytimg.com/vi/M9Pmf9AB4Mo/default.jpg</td>\n",
       "      <td>False</td>\n",
       "      <td>False</td>\n",
       "      <td>While running her own modding shop, Ramya Pare...</td>\n",
       "      <td>2020</td>\n",
       "      <td>8</td>\n",
       "      <td>11</td>\n",
       "      <td>17</td>\n",
       "      <td>2020</td>\n",
       "      <td>8</td>\n",
       "      <td>12</td>\n",
       "      <td>0</td>\n",
       "    </tr>\n",
       "    <tr>\n",
       "      <th>2</th>\n",
       "      <td>J78aPJ3VyNs</td>\n",
       "      <td>I left youtube for a month and THIS is what ha...</td>\n",
       "      <td>2020-08-11 16:34:06</td>\n",
       "      <td>UCYzPXprvl5Y-Sf0g4vX-m6g</td>\n",
       "      <td>jacksepticeye</td>\n",
       "      <td>24</td>\n",
       "      <td>2020-08-12</td>\n",
       "      <td>jacksepticeye|funny|funny meme|memes|jacksepti...</td>\n",
       "      <td>2038853</td>\n",
       "      <td>353787</td>\n",
       "      <td>2628</td>\n",
       "      <td>40221</td>\n",
       "      <td>https://i.ytimg.com/vi/J78aPJ3VyNs/default.jpg</td>\n",
       "      <td>False</td>\n",
       "      <td>False</td>\n",
       "      <td>I left youtube for a month and this is what ha...</td>\n",
       "      <td>2020</td>\n",
       "      <td>8</td>\n",
       "      <td>11</td>\n",
       "      <td>16</td>\n",
       "      <td>2020</td>\n",
       "      <td>8</td>\n",
       "      <td>12</td>\n",
       "      <td>0</td>\n",
       "    </tr>\n",
       "    <tr>\n",
       "      <th>3</th>\n",
       "      <td>kXLn3HkpjaA</td>\n",
       "      <td>XXL 2020 Freshman Class Revealed - Official An...</td>\n",
       "      <td>2020-08-11 16:38:55</td>\n",
       "      <td>UCbg_UMjlHJg_19SZckaKajg</td>\n",
       "      <td>XXL</td>\n",
       "      <td>10</td>\n",
       "      <td>2020-08-12</td>\n",
       "      <td>xxl freshman|xxl freshmen|2020 xxl freshman|20...</td>\n",
       "      <td>496771</td>\n",
       "      <td>23251</td>\n",
       "      <td>1856</td>\n",
       "      <td>7647</td>\n",
       "      <td>https://i.ytimg.com/vi/kXLn3HkpjaA/default.jpg</td>\n",
       "      <td>False</td>\n",
       "      <td>False</td>\n",
       "      <td>Subscribe to XXL → http://bit.ly/subscribe-xxl...</td>\n",
       "      <td>2020</td>\n",
       "      <td>8</td>\n",
       "      <td>11</td>\n",
       "      <td>16</td>\n",
       "      <td>2020</td>\n",
       "      <td>8</td>\n",
       "      <td>12</td>\n",
       "      <td>0</td>\n",
       "    </tr>\n",
       "    <tr>\n",
       "      <th>4</th>\n",
       "      <td>VIUo6yapDbc</td>\n",
       "      <td>Ultimate DIY Home Movie Theater for The LaBran...</td>\n",
       "      <td>2020-08-11 15:10:05</td>\n",
       "      <td>UCDVPcEbVLQgLZX0Rt6jo34A</td>\n",
       "      <td>Mr. Kate</td>\n",
       "      <td>26</td>\n",
       "      <td>2020-08-12</td>\n",
       "      <td>The LaBrant Family|DIY|Interior Design|Makeove...</td>\n",
       "      <td>1123889</td>\n",
       "      <td>45802</td>\n",
       "      <td>964</td>\n",
       "      <td>2196</td>\n",
       "      <td>https://i.ytimg.com/vi/VIUo6yapDbc/default.jpg</td>\n",
       "      <td>False</td>\n",
       "      <td>False</td>\n",
       "      <td>Transforming The LaBrant Family's empty white ...</td>\n",
       "      <td>2020</td>\n",
       "      <td>8</td>\n",
       "      <td>11</td>\n",
       "      <td>15</td>\n",
       "      <td>2020</td>\n",
       "      <td>8</td>\n",
       "      <td>12</td>\n",
       "      <td>0</td>\n",
       "    </tr>\n",
       "  </tbody>\n",
       "</table>\n",
       "</div>"
      ],
      "text/plain": [
       "      video_id                                              title  \\\n",
       "0  3C66w5Z0ixs                 I ASKED HER TO BE MY GIRLFRIEND...   \n",
       "1  M9Pmf9AB4Mo  Apex Legends | Stories from the Outlands – “Th...   \n",
       "2  J78aPJ3VyNs  I left youtube for a month and THIS is what ha...   \n",
       "3  kXLn3HkpjaA  XXL 2020 Freshman Class Revealed - Official An...   \n",
       "4  VIUo6yapDbc  Ultimate DIY Home Movie Theater for The LaBran...   \n",
       "\n",
       "          publishedAt                 channelId   channelTitle  categoryId  \\\n",
       "0 2020-08-11 19:20:14  UCvtRTOMP2TqYqu51xNrqAzg       Brawadis          22   \n",
       "1 2020-08-11 17:00:10  UC0ZV6M2THA81QT9hrVWJG3A   Apex Legends          20   \n",
       "2 2020-08-11 16:34:06  UCYzPXprvl5Y-Sf0g4vX-m6g  jacksepticeye          24   \n",
       "3 2020-08-11 16:38:55  UCbg_UMjlHJg_19SZckaKajg            XXL          10   \n",
       "4 2020-08-11 15:10:05  UCDVPcEbVLQgLZX0Rt6jo34A       Mr. Kate          26   \n",
       "\n",
       "  trending_date                                               tags  \\\n",
       "0    2020-08-12  brawadis|prank|basketball|skits|ghost|funny vi...   \n",
       "1    2020-08-12  Apex Legends|Apex Legends characters|new Apex ...   \n",
       "2    2020-08-12  jacksepticeye|funny|funny meme|memes|jacksepti...   \n",
       "3    2020-08-12  xxl freshman|xxl freshmen|2020 xxl freshman|20...   \n",
       "4    2020-08-12  The LaBrant Family|DIY|Interior Design|Makeove...   \n",
       "\n",
       "   view_count   likes  dislikes  comment_count  \\\n",
       "0     1514614  156908      5855          35313   \n",
       "1     2381688  146739      2794          16549   \n",
       "2     2038853  353787      2628          40221   \n",
       "3      496771   23251      1856           7647   \n",
       "4     1123889   45802       964           2196   \n",
       "\n",
       "                                   thumbnail_link  comments_disabled  \\\n",
       "0  https://i.ytimg.com/vi/3C66w5Z0ixs/default.jpg              False   \n",
       "1  https://i.ytimg.com/vi/M9Pmf9AB4Mo/default.jpg              False   \n",
       "2  https://i.ytimg.com/vi/J78aPJ3VyNs/default.jpg              False   \n",
       "3  https://i.ytimg.com/vi/kXLn3HkpjaA/default.jpg              False   \n",
       "4  https://i.ytimg.com/vi/VIUo6yapDbc/default.jpg              False   \n",
       "\n",
       "   ratings_disabled                                        description  \\\n",
       "0             False  SUBSCRIBE to BRAWADIS ▶ http://bit.ly/Subscrib...   \n",
       "1             False  While running her own modding shop, Ramya Pare...   \n",
       "2             False  I left youtube for a month and this is what ha...   \n",
       "3             False  Subscribe to XXL → http://bit.ly/subscribe-xxl...   \n",
       "4             False  Transforming The LaBrant Family's empty white ...   \n",
       "\n",
       "   publishedAt_y  publishedAt_m  publishedAt_d  publishedAt_h  \\\n",
       "0           2020              8             11             19   \n",
       "1           2020              8             11             17   \n",
       "2           2020              8             11             16   \n",
       "3           2020              8             11             16   \n",
       "4           2020              8             11             15   \n",
       "\n",
       "   trending_date_y  trending_date_m  trending_date_d  trending_date_h  \n",
       "0             2020                8               12                0  \n",
       "1             2020                8               12                0  \n",
       "2             2020                8               12                0  \n",
       "3             2020                8               12                0  \n",
       "4             2020                8               12                0  "
      ]
     },
     "execution_count": 10,
     "metadata": {},
     "output_type": "execute_result"
    }
   ],
   "source": [
    "df.head()"
   ]
  },
  {
   "cell_type": "code",
   "execution_count": 11,
   "metadata": {},
   "outputs": [],
   "source": [
    "# drop trending_date_h since all 0\n",
    "\n",
    "df = df.drop(columns='trending_date_h')"
   ]
  },
  {
   "cell_type": "code",
   "execution_count": 12,
   "metadata": {},
   "outputs": [
    {
     "data": {
      "text/plain": [
       "(56391, 23)"
      ]
     },
     "execution_count": 12,
     "metadata": {},
     "output_type": "execute_result"
    }
   ],
   "source": [
    "df.shape"
   ]
  },
  {
   "cell_type": "code",
   "execution_count": 13,
   "metadata": {},
   "outputs": [],
   "source": [
    "df_edit = df.copy()"
   ]
  },
  {
   "cell_type": "markdown",
   "metadata": {},
   "source": [
    "---"
   ]
  },
  {
   "cell_type": "markdown",
   "metadata": {},
   "source": [
    "# Normalizing Data"
   ]
  },
  {
   "cell_type": "code",
   "execution_count": 14,
   "metadata": {},
   "outputs": [],
   "source": [
    "def min_max_scale(df: pd.DataFrame) -> pd.DataFrame:\n",
    "    \"\"\"\n",
    "    Description: \n",
    "        - Apply min-max scaling to dataframe columns of type float\n",
    "    Inputs: \n",
    "        - df, input dataframe to be normalized\n",
    "    Returns:\n",
    "        - df, normalized dataframe\n",
    "    \"\"\"\n",
    "    \n",
    "    numbered_columns = df.select_dtypes(include=[np.number, np.bool]).columns     # extract columns that are of type float\n",
    "    scaler = preprocessing.MinMaxScaler()\n",
    "    df[numbered_columns] = scaler.fit_transform(df[numbered_columns])     # normalize across columns \n",
    "    return df.copy()"
   ]
  },
  {
   "cell_type": "markdown",
   "metadata": {},
   "source": [
    "---"
   ]
  },
  {
   "cell_type": "markdown",
   "metadata": {},
   "source": [
    "# Splitting Data"
   ]
  },
  {
   "cell_type": "code",
   "execution_count": 15,
   "metadata": {},
   "outputs": [],
   "source": [
    "def split_data(df: pd.DataFrame, replace_nan: int) -> list:\n",
    "    \"\"\"\n",
    "    Description: \n",
    "        - split data into training and testing datasets\n",
    "    Inputs: \n",
    "        - df, input dataframe to be split\n",
    "        - replace_nan, value to replace nan values found in input dataframe\n",
    "    Returns:\n",
    "        - split_list, list containing train-test split of input dataframe\n",
    "    \"\"\"\n",
    "    \n",
    "    df = df.replace(np.nan, replace_nan).copy()     # replace nan values\n",
    "    \n",
    "    X = df.drop(columns=df.columns[-1]).copy()     # remove categorical data\n",
    "    y = df[df.columns[-1]].copy()\n",
    "    \n",
    "    split_list = train_test_split(X, y, random_state=40, test_size=0.3)\n",
    "    \n",
    "    print('=== Train shape ===')\n",
    "    print(split_list[0].shape)\n",
    "    print()\n",
    "    \n",
    "    print('=== Test shape ===')\n",
    "    print(split_list[1].shape)\n",
    "    print()\n",
    "    \n",
    "    return split_list"
   ]
  },
  {
   "cell_type": "markdown",
   "metadata": {},
   "source": [
    "---"
   ]
  },
  {
   "cell_type": "markdown",
   "metadata": {},
   "source": [
    "# Random forest"
   ]
  },
  {
   "cell_type": "code",
   "execution_count": 16,
   "metadata": {},
   "outputs": [],
   "source": [
    "res = {}"
   ]
  },
  {
   "cell_type": "markdown",
   "metadata": {},
   "source": [
    "## Building dataset"
   ]
  },
  {
   "cell_type": "code",
   "execution_count": 17,
   "metadata": {},
   "outputs": [],
   "source": [
    "df = df_edit.copy()"
   ]
  },
  {
   "cell_type": "code",
   "execution_count": 18,
   "metadata": {},
   "outputs": [
    {
     "data": {
      "text/plain": [
       "count       56391.00\n",
       "mean      2774104.35\n",
       "std       6495728.16\n",
       "min             0.00\n",
       "25%        552122.50\n",
       "50%       1140492.00\n",
       "75%       2554232.00\n",
       "max     264407389.00\n",
       "Name: view_count, dtype: float64"
      ]
     },
     "execution_count": 18,
     "metadata": {},
     "output_type": "execute_result"
    }
   ],
   "source": [
    "df['view_count'].describe()"
   ]
  },
  {
   "cell_type": "code",
   "execution_count": 19,
   "metadata": {},
   "outputs": [],
   "source": [
    "d_view_ranks = {\n",
    "    'F':0, 'E':250000, 'D':500000, 'C':1000000, 'B':5000000, 'A':10000000,\n",
    "}\n",
    "\n",
    "for key, value in d_view_ranks.items():\n",
    "    df.loc[df['view_count'] >= value, 'view_count_cat'] = key"
   ]
  },
  {
   "cell_type": "code",
   "execution_count": 20,
   "metadata": {},
   "outputs": [
    {
     "data": {
      "text/plain": [
       "Index(['video_id', 'title', 'publishedAt', 'channelId', 'channelTitle',\n",
       "       'categoryId', 'trending_date', 'tags', 'view_count', 'likes',\n",
       "       'dislikes', 'comment_count', 'thumbnail_link', 'comments_disabled',\n",
       "       'ratings_disabled', 'description', 'publishedAt_y', 'publishedAt_m',\n",
       "       'publishedAt_d', 'publishedAt_h', 'trending_date_y', 'trending_date_m',\n",
       "       'trending_date_d', 'view_count_cat'],\n",
       "      dtype='object')"
      ]
     },
     "execution_count": 20,
     "metadata": {},
     "output_type": "execute_result"
    }
   ],
   "source": [
    "df.columns"
   ]
  },
  {
   "cell_type": "code",
   "execution_count": 21,
   "metadata": {},
   "outputs": [
    {
     "data": {
      "text/plain": [
       "video_id                     object\n",
       "title                        object\n",
       "publishedAt          datetime64[ns]\n",
       "channelId                    object\n",
       "channelTitle                 object\n",
       "categoryId                    int64\n",
       "trending_date        datetime64[ns]\n",
       "tags                         object\n",
       "view_count                    int64\n",
       "likes                         int64\n",
       "dislikes                      int64\n",
       "comment_count                 int64\n",
       "thumbnail_link               object\n",
       "comments_disabled              bool\n",
       "ratings_disabled               bool\n",
       "description                  object\n",
       "publishedAt_y                 int64\n",
       "publishedAt_m                 int64\n",
       "publishedAt_d                 int64\n",
       "publishedAt_h                 int64\n",
       "trending_date_y               int64\n",
       "trending_date_m               int64\n",
       "trending_date_d               int64\n",
       "view_count_cat               object\n",
       "dtype: object"
      ]
     },
     "execution_count": 21,
     "metadata": {},
     "output_type": "execute_result"
    }
   ],
   "source": [
    "df.dtypes"
   ]
  },
  {
   "cell_type": "code",
   "execution_count": 22,
   "metadata": {},
   "outputs": [
    {
     "data": {
      "text/html": [
       "<div>\n",
       "<style scoped>\n",
       "    .dataframe tbody tr th:only-of-type {\n",
       "        vertical-align: middle;\n",
       "    }\n",
       "\n",
       "    .dataframe tbody tr th {\n",
       "        vertical-align: top;\n",
       "    }\n",
       "\n",
       "    .dataframe thead th {\n",
       "        text-align: right;\n",
       "    }\n",
       "</style>\n",
       "<table border=\"1\" class=\"dataframe\">\n",
       "  <thead>\n",
       "    <tr style=\"text-align: right;\">\n",
       "      <th></th>\n",
       "      <th>likes</th>\n",
       "      <th>dislikes</th>\n",
       "      <th>comment_count</th>\n",
       "      <th>comments_disabled</th>\n",
       "      <th>ratings_disabled</th>\n",
       "      <th>view_count_cat</th>\n",
       "    </tr>\n",
       "  </thead>\n",
       "  <tbody>\n",
       "    <tr>\n",
       "      <th>0</th>\n",
       "      <td>0.01</td>\n",
       "      <td>0.01</td>\n",
       "      <td>0.01</td>\n",
       "      <td>0.00</td>\n",
       "      <td>0.00</td>\n",
       "      <td>C</td>\n",
       "    </tr>\n",
       "    <tr>\n",
       "      <th>1</th>\n",
       "      <td>0.01</td>\n",
       "      <td>0.00</td>\n",
       "      <td>0.00</td>\n",
       "      <td>0.00</td>\n",
       "      <td>0.00</td>\n",
       "      <td>C</td>\n",
       "    </tr>\n",
       "    <tr>\n",
       "      <th>2</th>\n",
       "      <td>0.02</td>\n",
       "      <td>0.00</td>\n",
       "      <td>0.01</td>\n",
       "      <td>0.00</td>\n",
       "      <td>0.00</td>\n",
       "      <td>C</td>\n",
       "    </tr>\n",
       "    <tr>\n",
       "      <th>3</th>\n",
       "      <td>0.00</td>\n",
       "      <td>0.00</td>\n",
       "      <td>0.00</td>\n",
       "      <td>0.00</td>\n",
       "      <td>0.00</td>\n",
       "      <td>E</td>\n",
       "    </tr>\n",
       "    <tr>\n",
       "      <th>4</th>\n",
       "      <td>0.00</td>\n",
       "      <td>0.00</td>\n",
       "      <td>0.00</td>\n",
       "      <td>0.00</td>\n",
       "      <td>0.00</td>\n",
       "      <td>C</td>\n",
       "    </tr>\n",
       "  </tbody>\n",
       "</table>\n",
       "</div>"
      ],
      "text/plain": [
       "   likes  dislikes  comment_count  comments_disabled  ratings_disabled  \\\n",
       "0   0.01      0.01           0.01               0.00              0.00   \n",
       "1   0.01      0.00           0.00               0.00              0.00   \n",
       "2   0.02      0.00           0.01               0.00              0.00   \n",
       "3   0.00      0.00           0.00               0.00              0.00   \n",
       "4   0.00      0.00           0.00               0.00              0.00   \n",
       "\n",
       "  view_count_cat  \n",
       "0              C  \n",
       "1              C  \n",
       "2              C  \n",
       "3              E  \n",
       "4              C  "
      ]
     },
     "execution_count": 22,
     "metadata": {},
     "output_type": "execute_result"
    }
   ],
   "source": [
    "df = df['likes dislikes comment_count comments_disabled ratings_disabled view_count_cat'.split()]\n",
    "df_norm = min_max_scale(df.copy())\n",
    "df_norm.head()"
   ]
  },
  {
   "cell_type": "code",
   "execution_count": 23,
   "metadata": {},
   "outputs": [
    {
     "data": {
      "text/plain": [
       "C    24090\n",
       "D    13246\n",
       "E     8819\n",
       "B     3964\n",
       "F     3513\n",
       "A     2759\n",
       "Name: view_count_cat, dtype: int64"
      ]
     },
     "execution_count": 23,
     "metadata": {},
     "output_type": "execute_result"
    }
   ],
   "source": [
    "df_norm['view_count_cat'].value_counts()"
   ]
  },
  {
   "cell_type": "markdown",
   "metadata": {},
   "source": [
    "## Running model"
   ]
  },
  {
   "cell_type": "code",
   "execution_count": 24,
   "metadata": {},
   "outputs": [],
   "source": [
    "def random_forest_fit(df, model_arguments):\n",
    "    \n",
    "    \n",
    "    # replacing nan value with -1\n",
    "    X_train, X_test, y_train, y_test = split_data(df, -1)\n",
    "    \n",
    "    \n",
    "    # create logistic regression model\n",
    "\n",
    "    model = RandomForestClassifier(\n",
    "        n_estimators=model_arguments['n_estimators'],\n",
    "        criterion=model_arguments['criterion'],\n",
    "        max_depth=model_arguments['max_depth'],\n",
    "        min_samples_split=model_arguments['min_samples_split'],\n",
    "        min_samples_leaf=model_arguments['min_samples_leaf'],\n",
    "        min_weight_fraction_leaf=model_arguments['min_weight_fraction_leaf'],\n",
    "        max_features=model_arguments['max_features'],\n",
    "        max_leaf_nodes=model_arguments['max_leaf_nodes'],\n",
    "        min_impurity_decrease=model_arguments['min_impurity_decrease'],\n",
    "        min_impurity_split=model_arguments['min_impurity_split'],\n",
    "        bootstrap=model_arguments['bootstrap'],\n",
    "        oob_score=model_arguments['oob_score'],\n",
    "        n_jobs=model_arguments['n_jobs'],\n",
    "        random_state=model_arguments['random_state'],\n",
    "        verbose=model_arguments['verbose'],\n",
    "        warm_start=model_arguments['warm_start'],\n",
    "        class_weight=model_arguments['class_weight'],\n",
    "        ccp_alpha=model_arguments['ccp_alpha'],\n",
    "        max_samples=model_arguments['max_samples'],\n",
    "    )\n",
    "    \n",
    "    \n",
    "    # fit data to model\n",
    "    model.fit(X_train, y_train);\n",
    "    \n",
    "    \n",
    "    return model, X_train, X_test, y_train, y_test"
   ]
  },
  {
   "cell_type": "code",
   "execution_count": 25,
   "metadata": {},
   "outputs": [
    {
     "name": "stdout",
     "output_type": "stream",
     "text": [
      "=== Train shape ===\n",
      "(39473, 5)\n",
      "\n",
      "=== Test shape ===\n",
      "(16918, 5)\n",
      "\n"
     ]
    }
   ],
   "source": [
    "random_forest_default_arguments = {\n",
    "    'n_estimators':100,\n",
    "    'criterion':'gini',\n",
    "    'max_depth':None,\n",
    "    'min_samples_split':2,\n",
    "    'min_samples_leaf':1,\n",
    "    'min_weight_fraction_leaf':0.0,\n",
    "    'max_features':'auto',\n",
    "    'max_leaf_nodes':None,\n",
    "    'min_impurity_decrease':0.0,\n",
    "    'min_impurity_split':None,\n",
    "    'bootstrap':True,\n",
    "    'oob_score':False,\n",
    "    'n_jobs':None,\n",
    "    'random_state':None,\n",
    "    'verbose':0,\n",
    "    'warm_start':False,\n",
    "    'class_weight':None,\n",
    "    'ccp_alpha':0.0,\n",
    "    'max_samples':None,\n",
    "}\n",
    "\n",
    "model, X_train, X_test, y_train, y_test = random_forest_fit(df_norm, random_forest_default_arguments)"
   ]
  },
  {
   "cell_type": "markdown",
   "metadata": {},
   "source": [
    "## Performance"
   ]
  },
  {
   "cell_type": "code",
   "execution_count": 26,
   "metadata": {},
   "outputs": [],
   "source": [
    "def model_f1(model, X_train, X_test, y_train, y_test):\n",
    "    \n",
    "    \n",
    "    # predict classes using mode\n",
    "    \n",
    "    y_pred = model.predict(X_train)\n",
    "    f1_train = round(f1_score(y_train, y_pred, zero_division=0, average='weighted'), 3)\n",
    "\n",
    "    y_pred = model.predict(X_test)\n",
    "    f1_test = round(f1_score(y_test, y_pred, zero_division=0, average='weighted'), 3)\n",
    "\n",
    "    X = pd.concat([X_train, X_test])\n",
    "    y = pd.concat([y_train, y_test])\n",
    "    f1_cv_scores = cross_val_score(model, X, y, cv=5, scoring='f1_weighted', n_jobs=-1)\n",
    "    f1_cv_mean = round(f1_cv_scores.mean(), 3)\n",
    "    \n",
    "    \n",
    "    # print scores\n",
    "    \n",
    "    print('=== Training f1-score ===')\n",
    "    print(f1_train)\n",
    "    print()\n",
    "\n",
    "    print('=== Testing f1-score ===')\n",
    "    print(f1_test)\n",
    "    print()\n",
    "\n",
    "    print('=== Cross-validating dataset f1-score ===')\n",
    "    print(f1_cv_mean)\n",
    "    \n",
    "    return y_pred, f1_train, f1_test, X, y, f1_cv_scores, f1_cv_mean"
   ]
  },
  {
   "cell_type": "code",
   "execution_count": 27,
   "metadata": {},
   "outputs": [
    {
     "name": "stdout",
     "output_type": "stream",
     "text": [
      "=== Training f1-score ===\n",
      "0.998\n",
      "\n",
      "=== Testing f1-score ===\n",
      "0.712\n",
      "\n",
      "=== Cross-validating dataset f1-score ===\n",
      "0.713\n"
     ]
    }
   ],
   "source": [
    "# get f1-scores\n",
    "\n",
    "y_pred, f1_train, f1_test, X, y, f1_cv_scores, f1_cv_mean = model_f1(model, X_train, X_test, y_train, y_test)"
   ]
  },
  {
   "cell_type": "code",
   "execution_count": 28,
   "metadata": {},
   "outputs": [
    {
     "name": "stdout",
     "output_type": "stream",
     "text": [
      "              precision    recall  f1-score   support\n",
      "\n",
      "           A       0.83      0.78      0.80       822\n",
      "           B       0.70      0.57      0.62      1258\n",
      "           C       0.79      0.85      0.81      7188\n",
      "           D       0.63      0.61      0.62      4017\n",
      "           E       0.62      0.62      0.62      2616\n",
      "           F       0.67      0.59      0.63      1017\n",
      "\n",
      "    accuracy                           0.71     16918\n",
      "   macro avg       0.71      0.67      0.68     16918\n",
      "weighted avg       0.71      0.71      0.71     16918\n",
      "\n"
     ]
    }
   ],
   "source": [
    "# classification report\n",
    "\n",
    "report = classification_report(y_test, y_pred, zero_division=0)\n",
    "print(report)"
   ]
  },
  {
   "cell_type": "code",
   "execution_count": 29,
   "metadata": {},
   "outputs": [
    {
     "data": {
      "text/plain": [
       "C    7188\n",
       "D    4017\n",
       "E    2616\n",
       "B    1258\n",
       "F    1017\n",
       "A     822\n",
       "Name: view_count_cat, dtype: int64"
      ]
     },
     "execution_count": 29,
     "metadata": {},
     "output_type": "execute_result"
    }
   ],
   "source": [
    "pd.Series(y_test).value_counts()"
   ]
  },
  {
   "cell_type": "code",
   "execution_count": 30,
   "metadata": {},
   "outputs": [],
   "source": [
    "def confusion_matricies(y_test, y_pred):\n",
    "    \n",
    "    \n",
    "    # create matrix\n",
    "    \n",
    "    labels = np.sort(pd.Series(y_test).unique())\n",
    "    cm = confusion_matrix(y_test, y_pred, labels=labels)\n",
    "    # source: https://stackoverflow.com/questions/35572000/how-can-i-plot-a-confusion-matrix\n",
    "    df_cm = pd.DataFrame(cm, index = [i for i in labels], columns = [i for i in labels])\n",
    "    \n",
    "    \n",
    "    # plot absolute values\n",
    "    \n",
    "    plt.figure(figsize = (10,5))\n",
    "    sns.heatmap(df_cm, annot=True, fmt='.0f', cmap=\"Blues\")\n",
    "    plt.tight_layout()\n",
    "    plt.show();\n",
    "    print()\n",
    "    \n",
    "    \n",
    "    # plot normalized values\n",
    "    \n",
    "    plt.figure(figsize = (10,5))\n",
    "    sns.heatmap(df_cm.apply(lambda r: r/r.sum(), axis=1), annot=True, fmt='.3f', cmap=\"Blues\")\n",
    "    plt.tight_layout()\n",
    "    plt.show();"
   ]
  },
  {
   "cell_type": "code",
   "execution_count": 31,
   "metadata": {},
   "outputs": [
    {
     "data": {
      "image/png": "[encoded data removed]",
      "text/plain": [
       "<Figure size 720x360 with 2 Axes>"
      ]
     },
     "metadata": {},
     "output_type": "display_data"
    },
    {
     "name": "stdout",
     "output_type": "stream",
     "text": [
      "\n"
     ]
    },
    {
     "data": {
      "image/png": "[encoded data removed]",
      "text/plain": [
       "<Figure size 720x360 with 2 Axes>"
      ]
     },
     "metadata": {},
     "output_type": "display_data"
    }
   ],
   "source": [
    "confusion_matricies(y_test, y_pred)"
   ]
  },
  {
   "cell_type": "markdown",
   "metadata": {},
   "source": [
    "## Feature importance"
   ]
  },
  {
   "cell_type": "code",
   "execution_count": 32,
   "metadata": {},
   "outputs": [
    {
     "data": {
      "text/html": [
       "<div>\n",
       "<style scoped>\n",
       "    .dataframe tbody tr th:only-of-type {\n",
       "        vertical-align: middle;\n",
       "    }\n",
       "\n",
       "    .dataframe tbody tr th {\n",
       "        vertical-align: top;\n",
       "    }\n",
       "\n",
       "    .dataframe thead th {\n",
       "        text-align: right;\n",
       "    }\n",
       "</style>\n",
       "<table border=\"1\" class=\"dataframe\">\n",
       "  <thead>\n",
       "    <tr style=\"text-align: right;\">\n",
       "      <th></th>\n",
       "      <th>features</th>\n",
       "      <th>importance_score</th>\n",
       "    </tr>\n",
       "  </thead>\n",
       "  <tbody>\n",
       "    <tr>\n",
       "      <th>0</th>\n",
       "      <td>likes</td>\n",
       "      <td>0.35</td>\n",
       "    </tr>\n",
       "    <tr>\n",
       "      <th>1</th>\n",
       "      <td>dislikes</td>\n",
       "      <td>0.38</td>\n",
       "    </tr>\n",
       "    <tr>\n",
       "      <th>2</th>\n",
       "      <td>comment_count</td>\n",
       "      <td>0.27</td>\n",
       "    </tr>\n",
       "    <tr>\n",
       "      <th>3</th>\n",
       "      <td>comments_disabled</td>\n",
       "      <td>0.00</td>\n",
       "    </tr>\n",
       "    <tr>\n",
       "      <th>4</th>\n",
       "      <td>ratings_disabled</td>\n",
       "      <td>0.00</td>\n",
       "    </tr>\n",
       "  </tbody>\n",
       "</table>\n",
       "</div>"
      ],
      "text/plain": [
       "            features  importance_score\n",
       "0              likes              0.35\n",
       "1           dislikes              0.38\n",
       "2      comment_count              0.27\n",
       "3  comments_disabled              0.00\n",
       "4   ratings_disabled              0.00"
      ]
     },
     "execution_count": 32,
     "metadata": {},
     "output_type": "execute_result"
    }
   ],
   "source": [
    "importance = pd.DataFrame(data=X_train.columns, columns=['features'])\n",
    "importance['importance_score'] = model.feature_importances_\n",
    "importance"
   ]
  },
  {
   "cell_type": "code",
   "execution_count": 33,
   "metadata": {},
   "outputs": [
    {
     "data": {
      "image/png": "[encoded data removed]",
      "text/plain": [
       "<Figure size 720x360 with 1 Axes>"
      ]
     },
     "metadata": {},
     "output_type": "display_data"
    }
   ],
   "source": [
    "fig, ax = plt.subplots(figsize=(10, 5))\n",
    "bp = sns.barplot(data=importance.sort_values('importance_score', ascending=False), x='importance_score', y='features', color='cornflowerblue');\n",
    "plt.tight_layout()"
   ]
  },
  {
   "cell_type": "markdown",
   "metadata": {},
   "source": [
    "---"
   ]
  }
 ],
 "metadata": {
  "kernelspec": {
   "display_name": "Python 3",
   "language": "python",
   "name": "python3"
  },
  "language_info": {
   "codemirror_mode": {
    "name": "ipython",
    "version": 3
   },
   "file_extension": ".py",
   "mimetype": "text/x-python",
   "name": "python",
   "nbconvert_exporter": "python",
   "pygments_lexer": "ipython3",
   "version": "3.8.6"
  }
 },
 "nbformat": 4,
 "nbformat_minor": 4
}
