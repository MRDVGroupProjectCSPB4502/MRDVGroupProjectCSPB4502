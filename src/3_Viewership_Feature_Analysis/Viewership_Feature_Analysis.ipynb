{
 "cells": [
  {
   "cell_type": "code",
   "execution_count": 1,
   "metadata": {},
   "outputs": [],
   "source": [
    "import numpy as np\n",
    "from numpy import trapz\n",
    "import pandas as pd\n",
    "\n",
    "from os import listdir\n",
    "\n",
    "import matplotlib.pyplot as plt\n",
    "import matplotlib.ticker as plticker\n",
    "import matplotlib.style as style\n",
    "style.use('seaborn-whitegrid')\n",
    "font = {'size' : 12}\n",
    "figure = {'titlesize' : 18}\n",
    "plt.rc('font', **font)\n",
    "plt.rc('figure', **figure)\n",
    "\n",
    "import seaborn as sns\n",
    "sns.set(font_scale=1.2)\n",
    "\n",
    "from sklearn import preprocessing\n",
    "from sklearn.model_selection import train_test_split, GridSearchCV, cross_val_score\n",
    "from sklearn.metrics import accuracy_score, classification_report, f1_score, confusion_matrix\n",
    "from sklearn.ensemble import RandomForestClassifier\n",
    "\n",
    "from tqdm import tqdm\n",
    "from tabulate import tabulate\n",
    "\n",
    "pd.set_option('display.max_columns', None)\n",
    "pd.set_option('display.float_format', lambda x: '%.2f' % x)"
   ]
  },
  {
   "cell_type": "markdown",
   "metadata": {},
   "source": [
    "---"
   ]
  },
  {
   "cell_type": "markdown",
   "metadata": {},
   "source": [
    "# Import"
   ]
  },
  {
   "cell_type": "code",
   "execution_count": 2,
   "metadata": {},
   "outputs": [],
   "source": [
    "path = '../../dataset/'\n",
    "df = pd.read_csv(path + 'eda_export.csv')\n",
    "df_import = df.copy()"
   ]
  },
  {
   "cell_type": "markdown",
   "metadata": {},
   "source": [
    "---"
   ]
  },
  {
   "cell_type": "markdown",
   "metadata": {},
   "source": [
    "# Overview"
   ]
  },
  {
   "cell_type": "code",
   "execution_count": 3,
   "metadata": {},
   "outputs": [
    {
     "data": {
      "text/plain": [
       "(499874, 34)"
      ]
     },
     "execution_count": 3,
     "metadata": {},
     "output_type": "execute_result"
    }
   ],
   "source": [
    "df.shape"
   ]
  },
  {
   "cell_type": "code",
   "execution_count": 4,
   "metadata": {},
   "outputs": [
    {
     "data": {
      "text/plain": [
       "Index(['video_id', 'title', 'publishedAt', 'channelId', 'channelTitle',\n",
       "       'categoryId', 'trending_date', 'tags', 'view_count', 'likes',\n",
       "       'dislikes', 'comment_count', 'thumbnail_link', 'comments_disabled',\n",
       "       'ratings_disabled', 'description', 'country', 'publishedAt_y',\n",
       "       'publishedAt_m', 'publishedAt_d', 'publishedAt_h', 'trending_date_y',\n",
       "       'trending_date_m', 'trending_date_d', 'publishedAt_w',\n",
       "       'trending_date_w', 'tags_n', 'title_len', 'title_upper', 'title_lower',\n",
       "       'title_case_ratio', 'des_len', 'punc_count', 'likes_dis_ratio'],\n",
       "      dtype='object')"
      ]
     },
     "execution_count": 4,
     "metadata": {},
     "output_type": "execute_result"
    }
   ],
   "source": [
    "df.columns"
   ]
  },
  {
   "cell_type": "code",
   "execution_count": 5,
   "metadata": {},
   "outputs": [
    {
     "data": {
      "text/html": [
       "<div>\n",
       "<style scoped>\n",
       "    .dataframe tbody tr th:only-of-type {\n",
       "        vertical-align: middle;\n",
       "    }\n",
       "\n",
       "    .dataframe tbody tr th {\n",
       "        vertical-align: top;\n",
       "    }\n",
       "\n",
       "    .dataframe thead th {\n",
       "        text-align: right;\n",
       "    }\n",
       "</style>\n",
       "<table border=\"1\" class=\"dataframe\">\n",
       "  <thead>\n",
       "    <tr style=\"text-align: right;\">\n",
       "      <th></th>\n",
       "      <th>video_id</th>\n",
       "      <th>title</th>\n",
       "      <th>publishedAt</th>\n",
       "      <th>channelId</th>\n",
       "      <th>channelTitle</th>\n",
       "      <th>categoryId</th>\n",
       "      <th>trending_date</th>\n",
       "      <th>tags</th>\n",
       "      <th>view_count</th>\n",
       "      <th>likes</th>\n",
       "      <th>dislikes</th>\n",
       "      <th>comment_count</th>\n",
       "      <th>thumbnail_link</th>\n",
       "      <th>comments_disabled</th>\n",
       "      <th>ratings_disabled</th>\n",
       "      <th>description</th>\n",
       "      <th>country</th>\n",
       "      <th>publishedAt_y</th>\n",
       "      <th>publishedAt_m</th>\n",
       "      <th>publishedAt_d</th>\n",
       "      <th>publishedAt_h</th>\n",
       "      <th>trending_date_y</th>\n",
       "      <th>trending_date_m</th>\n",
       "      <th>trending_date_d</th>\n",
       "      <th>publishedAt_w</th>\n",
       "      <th>trending_date_w</th>\n",
       "      <th>tags_n</th>\n",
       "      <th>title_len</th>\n",
       "      <th>title_upper</th>\n",
       "      <th>title_lower</th>\n",
       "      <th>title_case_ratio</th>\n",
       "      <th>des_len</th>\n",
       "      <th>punc_count</th>\n",
       "      <th>likes_dis_ratio</th>\n",
       "    </tr>\n",
       "  </thead>\n",
       "  <tbody>\n",
       "    <tr>\n",
       "      <th>0</th>\n",
       "      <td>s9FH4rDMvds</td>\n",
       "      <td>LEVEI UM FORA? FINGI ESTAR APAIXONADO POR ELA!</td>\n",
       "      <td>2020-08-11 22:21:49</td>\n",
       "      <td>UCGfBwrCoi9ZJjKiUK8MmJNw</td>\n",
       "      <td>Pietro Guedes</td>\n",
       "      <td>22</td>\n",
       "      <td>2020-08-12 00:00:00</td>\n",
       "      <td>pietro|guedes|ingrid|ohara|pingrid|vlog|amigos...</td>\n",
       "      <td>263835</td>\n",
       "      <td>85095</td>\n",
       "      <td>487</td>\n",
       "      <td>4500</td>\n",
       "      <td>https://i.ytimg.com/vi/s9FH4rDMvds/default.jpg</td>\n",
       "      <td>False</td>\n",
       "      <td>False</td>\n",
       "      <td>Salve rapaziada, neste vídeo me declarei pra e...</td>\n",
       "      <td>BR</td>\n",
       "      <td>2020</td>\n",
       "      <td>8</td>\n",
       "      <td>11</td>\n",
       "      <td>22</td>\n",
       "      <td>2020</td>\n",
       "      <td>8</td>\n",
       "      <td>12</td>\n",
       "      <td>Tuesday</td>\n",
       "      <td>Wednesday</td>\n",
       "      <td>14</td>\n",
       "      <td>46</td>\n",
       "      <td>37</td>\n",
       "      <td>0</td>\n",
       "      <td>NaN</td>\n",
       "      <td>926.00</td>\n",
       "      <td>1</td>\n",
       "      <td>174.73</td>\n",
       "    </tr>\n",
       "    <tr>\n",
       "      <th>1</th>\n",
       "      <td>jbGRowa5tIk</td>\n",
       "      <td>ITZY “Not Shy” M/V TEASER</td>\n",
       "      <td>2020-08-11 15:00:13</td>\n",
       "      <td>UCaO6TYtlC8U5ttz62hTrZgg</td>\n",
       "      <td>JYP Entertainment</td>\n",
       "      <td>10</td>\n",
       "      <td>2020-08-12 00:00:00</td>\n",
       "      <td>JYP Entertainment|JYP|ITZY|있지|ITZY Video|ITZY ...</td>\n",
       "      <td>6000070</td>\n",
       "      <td>714310</td>\n",
       "      <td>15176</td>\n",
       "      <td>31040</td>\n",
       "      <td>https://i.ytimg.com/vi/jbGRowa5tIk/default.jpg</td>\n",
       "      <td>False</td>\n",
       "      <td>False</td>\n",
       "      <td>ITZY Not Shy M/V[ITZY Official] https://www.yo...</td>\n",
       "      <td>BR</td>\n",
       "      <td>2020</td>\n",
       "      <td>8</td>\n",
       "      <td>11</td>\n",
       "      <td>15</td>\n",
       "      <td>2020</td>\n",
       "      <td>8</td>\n",
       "      <td>12</td>\n",
       "      <td>Tuesday</td>\n",
       "      <td>Wednesday</td>\n",
       "      <td>47</td>\n",
       "      <td>25</td>\n",
       "      <td>14</td>\n",
       "      <td>4</td>\n",
       "      <td>3.50</td>\n",
       "      <td>301.00</td>\n",
       "      <td>0</td>\n",
       "      <td>47.07</td>\n",
       "    </tr>\n",
       "    <tr>\n",
       "      <th>2</th>\n",
       "      <td>3EfkCrXKZNs</td>\n",
       "      <td>Oh Juliana PARÓDIA - MC Niack</td>\n",
       "      <td>2020-08-10 14:59:00</td>\n",
       "      <td>UCoXZmVma073v5G1cW82UKkA</td>\n",
       "      <td>As Irmãs Mota</td>\n",
       "      <td>22</td>\n",
       "      <td>2020-08-12 00:00:00</td>\n",
       "      <td>OH JULIANA PARÓDIA|MC Niack PARÓDIA|PARÓDIAS|A...</td>\n",
       "      <td>2296748</td>\n",
       "      <td>39761</td>\n",
       "      <td>5484</td>\n",
       "      <td>0</td>\n",
       "      <td>https://i.ytimg.com/vi/3EfkCrXKZNs/default.jpg</td>\n",
       "      <td>True</td>\n",
       "      <td>False</td>\n",
       "      <td>Se inscrevam meus amores! 📬 Quer nos mandar al...</td>\n",
       "      <td>BR</td>\n",
       "      <td>2020</td>\n",
       "      <td>8</td>\n",
       "      <td>10</td>\n",
       "      <td>14</td>\n",
       "      <td>2020</td>\n",
       "      <td>8</td>\n",
       "      <td>12</td>\n",
       "      <td>Monday</td>\n",
       "      <td>Wednesday</td>\n",
       "      <td>7</td>\n",
       "      <td>29</td>\n",
       "      <td>11</td>\n",
       "      <td>11</td>\n",
       "      <td>1.00</td>\n",
       "      <td>334.00</td>\n",
       "      <td>0</td>\n",
       "      <td>7.25</td>\n",
       "    </tr>\n",
       "    <tr>\n",
       "      <th>3</th>\n",
       "      <td>gBjox7vn3-g</td>\n",
       "      <td>Contos de Runeterra: Targon | A Estrada Tortuosa</td>\n",
       "      <td>2020-08-11 15:00:09</td>\n",
       "      <td>UC6Xqz2pm50gDCORYztqhDpg</td>\n",
       "      <td>League of Legends BR</td>\n",
       "      <td>20</td>\n",
       "      <td>2020-08-12 00:00:00</td>\n",
       "      <td>Riot|Riot Games|League of Legends|lol|trailer|...</td>\n",
       "      <td>300510</td>\n",
       "      <td>46222</td>\n",
       "      <td>242</td>\n",
       "      <td>2748</td>\n",
       "      <td>https://i.ytimg.com/vi/gBjox7vn3-g/default.jpg</td>\n",
       "      <td>False</td>\n",
       "      <td>False</td>\n",
       "      <td>Você se unirá aos Lunari e aos Solari em Targo...</td>\n",
       "      <td>BR</td>\n",
       "      <td>2020</td>\n",
       "      <td>8</td>\n",
       "      <td>11</td>\n",
       "      <td>15</td>\n",
       "      <td>2020</td>\n",
       "      <td>8</td>\n",
       "      <td>12</td>\n",
       "      <td>Tuesday</td>\n",
       "      <td>Wednesday</td>\n",
       "      <td>42</td>\n",
       "      <td>48</td>\n",
       "      <td>6</td>\n",
       "      <td>33</td>\n",
       "      <td>0.18</td>\n",
       "      <td>550.00</td>\n",
       "      <td>0</td>\n",
       "      <td>191.00</td>\n",
       "    </tr>\n",
       "    <tr>\n",
       "      <th>4</th>\n",
       "      <td>npoUGx7UW7o</td>\n",
       "      <td>Entrevista com Thammy Miranda | The Noite (10/...</td>\n",
       "      <td>2020-08-11 20:04:02</td>\n",
       "      <td>UCEWOoncsrmirqnFqxer9lmA</td>\n",
       "      <td>The Noite com Danilo Gentili</td>\n",
       "      <td>23</td>\n",
       "      <td>2020-08-12 00:00:00</td>\n",
       "      <td>The Noite|The Noite com Danilo Gentili|Danilo ...</td>\n",
       "      <td>327235</td>\n",
       "      <td>22059</td>\n",
       "      <td>3972</td>\n",
       "      <td>2751</td>\n",
       "      <td>https://i.ytimg.com/vi/npoUGx7UW7o/default.jpg</td>\n",
       "      <td>False</td>\n",
       "      <td>False</td>\n",
       "      <td>Danilo Gentili recebe Thammy Miranda. Após pas...</td>\n",
       "      <td>BR</td>\n",
       "      <td>2020</td>\n",
       "      <td>8</td>\n",
       "      <td>11</td>\n",
       "      <td>20</td>\n",
       "      <td>2020</td>\n",
       "      <td>8</td>\n",
       "      <td>12</td>\n",
       "      <td>Tuesday</td>\n",
       "      <td>Wednesday</td>\n",
       "      <td>22</td>\n",
       "      <td>52</td>\n",
       "      <td>5</td>\n",
       "      <td>29</td>\n",
       "      <td>0.17</td>\n",
       "      <td>1167.00</td>\n",
       "      <td>0</td>\n",
       "      <td>5.55</td>\n",
       "    </tr>\n",
       "  </tbody>\n",
       "</table>\n",
       "</div>"
      ],
      "text/plain": [
       "      video_id                                              title  \\\n",
       "0  s9FH4rDMvds     LEVEI UM FORA? FINGI ESTAR APAIXONADO POR ELA!   \n",
       "1  jbGRowa5tIk                          ITZY “Not Shy” M/V TEASER   \n",
       "2  3EfkCrXKZNs                      Oh Juliana PARÓDIA - MC Niack   \n",
       "3  gBjox7vn3-g   Contos de Runeterra: Targon | A Estrada Tortuosa   \n",
       "4  npoUGx7UW7o  Entrevista com Thammy Miranda | The Noite (10/...   \n",
       "\n",
       "           publishedAt                 channelId  \\\n",
       "0  2020-08-11 22:21:49  UCGfBwrCoi9ZJjKiUK8MmJNw   \n",
       "1  2020-08-11 15:00:13  UCaO6TYtlC8U5ttz62hTrZgg   \n",
       "2  2020-08-10 14:59:00  UCoXZmVma073v5G1cW82UKkA   \n",
       "3  2020-08-11 15:00:09  UC6Xqz2pm50gDCORYztqhDpg   \n",
       "4  2020-08-11 20:04:02  UCEWOoncsrmirqnFqxer9lmA   \n",
       "\n",
       "                   channelTitle  categoryId        trending_date  \\\n",
       "0                 Pietro Guedes          22  2020-08-12 00:00:00   \n",
       "1             JYP Entertainment          10  2020-08-12 00:00:00   \n",
       "2                 As Irmãs Mota          22  2020-08-12 00:00:00   \n",
       "3          League of Legends BR          20  2020-08-12 00:00:00   \n",
       "4  The Noite com Danilo Gentili          23  2020-08-12 00:00:00   \n",
       "\n",
       "                                                tags  view_count   likes  \\\n",
       "0  pietro|guedes|ingrid|ohara|pingrid|vlog|amigos...      263835   85095   \n",
       "1  JYP Entertainment|JYP|ITZY|있지|ITZY Video|ITZY ...     6000070  714310   \n",
       "2  OH JULIANA PARÓDIA|MC Niack PARÓDIA|PARÓDIAS|A...     2296748   39761   \n",
       "3  Riot|Riot Games|League of Legends|lol|trailer|...      300510   46222   \n",
       "4  The Noite|The Noite com Danilo Gentili|Danilo ...      327235   22059   \n",
       "\n",
       "   dislikes  comment_count                                  thumbnail_link  \\\n",
       "0       487           4500  https://i.ytimg.com/vi/s9FH4rDMvds/default.jpg   \n",
       "1     15176          31040  https://i.ytimg.com/vi/jbGRowa5tIk/default.jpg   \n",
       "2      5484              0  https://i.ytimg.com/vi/3EfkCrXKZNs/default.jpg   \n",
       "3       242           2748  https://i.ytimg.com/vi/gBjox7vn3-g/default.jpg   \n",
       "4      3972           2751  https://i.ytimg.com/vi/npoUGx7UW7o/default.jpg   \n",
       "\n",
       "   comments_disabled  ratings_disabled  \\\n",
       "0              False             False   \n",
       "1              False             False   \n",
       "2               True             False   \n",
       "3              False             False   \n",
       "4              False             False   \n",
       "\n",
       "                                         description country  publishedAt_y  \\\n",
       "0  Salve rapaziada, neste vídeo me declarei pra e...      BR           2020   \n",
       "1  ITZY Not Shy M/V[ITZY Official] https://www.yo...      BR           2020   \n",
       "2  Se inscrevam meus amores! 📬 Quer nos mandar al...      BR           2020   \n",
       "3  Você se unirá aos Lunari e aos Solari em Targo...      BR           2020   \n",
       "4  Danilo Gentili recebe Thammy Miranda. Após pas...      BR           2020   \n",
       "\n",
       "   publishedAt_m  publishedAt_d  publishedAt_h  trending_date_y  \\\n",
       "0              8             11             22             2020   \n",
       "1              8             11             15             2020   \n",
       "2              8             10             14             2020   \n",
       "3              8             11             15             2020   \n",
       "4              8             11             20             2020   \n",
       "\n",
       "   trending_date_m  trending_date_d publishedAt_w trending_date_w  tags_n  \\\n",
       "0                8               12       Tuesday       Wednesday      14   \n",
       "1                8               12       Tuesday       Wednesday      47   \n",
       "2                8               12        Monday       Wednesday       7   \n",
       "3                8               12       Tuesday       Wednesday      42   \n",
       "4                8               12       Tuesday       Wednesday      22   \n",
       "\n",
       "   title_len  title_upper  title_lower  title_case_ratio  des_len  punc_count  \\\n",
       "0         46           37            0               NaN   926.00           1   \n",
       "1         25           14            4              3.50   301.00           0   \n",
       "2         29           11           11              1.00   334.00           0   \n",
       "3         48            6           33              0.18   550.00           0   \n",
       "4         52            5           29              0.17  1167.00           0   \n",
       "\n",
       "   likes_dis_ratio  \n",
       "0           174.73  \n",
       "1            47.07  \n",
       "2             7.25  \n",
       "3           191.00  \n",
       "4             5.55  "
      ]
     },
     "execution_count": 5,
     "metadata": {},
     "output_type": "execute_result"
    }
   ],
   "source": [
    "df.head()"
   ]
  },
  {
   "cell_type": "code",
   "execution_count": 6,
   "metadata": {},
   "outputs": [
    {
     "data": {
      "text/html": [
       "<div>\n",
       "<style scoped>\n",
       "    .dataframe tbody tr th:only-of-type {\n",
       "        vertical-align: middle;\n",
       "    }\n",
       "\n",
       "    .dataframe tbody tr th {\n",
       "        vertical-align: top;\n",
       "    }\n",
       "\n",
       "    .dataframe thead th {\n",
       "        text-align: right;\n",
       "    }\n",
       "</style>\n",
       "<table border=\"1\" class=\"dataframe\">\n",
       "  <thead>\n",
       "    <tr style=\"text-align: right;\">\n",
       "      <th></th>\n",
       "      <th>categoryId</th>\n",
       "      <th>view_count</th>\n",
       "      <th>likes</th>\n",
       "      <th>dislikes</th>\n",
       "      <th>comment_count</th>\n",
       "      <th>publishedAt_y</th>\n",
       "      <th>publishedAt_m</th>\n",
       "      <th>publishedAt_d</th>\n",
       "      <th>publishedAt_h</th>\n",
       "      <th>trending_date_y</th>\n",
       "      <th>trending_date_m</th>\n",
       "      <th>trending_date_d</th>\n",
       "      <th>tags_n</th>\n",
       "      <th>title_len</th>\n",
       "      <th>title_upper</th>\n",
       "      <th>title_lower</th>\n",
       "      <th>title_case_ratio</th>\n",
       "      <th>des_len</th>\n",
       "      <th>punc_count</th>\n",
       "      <th>likes_dis_ratio</th>\n",
       "    </tr>\n",
       "  </thead>\n",
       "  <tbody>\n",
       "    <tr>\n",
       "      <th>count</th>\n",
       "      <td>499874.00</td>\n",
       "      <td>499874.00</td>\n",
       "      <td>499874.00</td>\n",
       "      <td>499874.00</td>\n",
       "      <td>499874.00</td>\n",
       "      <td>499874.00</td>\n",
       "      <td>499874.00</td>\n",
       "      <td>499874.00</td>\n",
       "      <td>499874.00</td>\n",
       "      <td>499874.00</td>\n",
       "      <td>499874.00</td>\n",
       "      <td>499874.00</td>\n",
       "      <td>499874.00</td>\n",
       "      <td>499874.00</td>\n",
       "      <td>499874.00</td>\n",
       "      <td>499874.00</td>\n",
       "      <td>413762.00</td>\n",
       "      <td>493768.00</td>\n",
       "      <td>499874.00</td>\n",
       "      <td>496060.00</td>\n",
       "    </tr>\n",
       "    <tr>\n",
       "      <th>mean</th>\n",
       "      <td>19.16</td>\n",
       "      <td>1977152.47</td>\n",
       "      <td>118476.23</td>\n",
       "      <td>2994.52</td>\n",
       "      <td>12231.54</td>\n",
       "      <td>2020.50</td>\n",
       "      <td>6.50</td>\n",
       "      <td>15.68</td>\n",
       "      <td>13.11</td>\n",
       "      <td>2020.51</td>\n",
       "      <td>6.44</td>\n",
       "      <td>15.64</td>\n",
       "      <td>17.27</td>\n",
       "      <td>53.98</td>\n",
       "      <td>12.90</td>\n",
       "      <td>24.44</td>\n",
       "      <td>0.86</td>\n",
       "      <td>936.09</td>\n",
       "      <td>0.38</td>\n",
       "      <td>79.24</td>\n",
       "    </tr>\n",
       "    <tr>\n",
       "      <th>std</th>\n",
       "      <td>6.76</td>\n",
       "      <td>5996266.65</td>\n",
       "      <td>414437.02</td>\n",
       "      <td>52657.96</td>\n",
       "      <td>110248.79</td>\n",
       "      <td>0.50</td>\n",
       "      <td>3.87</td>\n",
       "      <td>8.65</td>\n",
       "      <td>6.42</td>\n",
       "      <td>0.50</td>\n",
       "      <td>3.86</td>\n",
       "      <td>8.62</td>\n",
       "      <td>13.45</td>\n",
       "      <td>22.50</td>\n",
       "      <td>12.82</td>\n",
       "      <td>18.40</td>\n",
       "      <td>2.95</td>\n",
       "      <td>862.00</td>\n",
       "      <td>0.83</td>\n",
       "      <td>88.93</td>\n",
       "    </tr>\n",
       "    <tr>\n",
       "      <th>min</th>\n",
       "      <td>1.00</td>\n",
       "      <td>0.00</td>\n",
       "      <td>0.00</td>\n",
       "      <td>0.00</td>\n",
       "      <td>0.00</td>\n",
       "      <td>2020.00</td>\n",
       "      <td>1.00</td>\n",
       "      <td>1.00</td>\n",
       "      <td>0.00</td>\n",
       "      <td>2020.00</td>\n",
       "      <td>1.00</td>\n",
       "      <td>1.00</td>\n",
       "      <td>0.00</td>\n",
       "      <td>1.00</td>\n",
       "      <td>0.00</td>\n",
       "      <td>0.00</td>\n",
       "      <td>0.00</td>\n",
       "      <td>1.00</td>\n",
       "      <td>0.00</td>\n",
       "      <td>0.01</td>\n",
       "    </tr>\n",
       "    <tr>\n",
       "      <th>25%</th>\n",
       "      <td>17.00</td>\n",
       "      <td>252727.50</td>\n",
       "      <td>9571.25</td>\n",
       "      <td>191.00</td>\n",
       "      <td>694.00</td>\n",
       "      <td>2020.00</td>\n",
       "      <td>3.00</td>\n",
       "      <td>8.00</td>\n",
       "      <td>9.00</td>\n",
       "      <td>2020.00</td>\n",
       "      <td>3.00</td>\n",
       "      <td>8.00</td>\n",
       "      <td>7.00</td>\n",
       "      <td>37.00</td>\n",
       "      <td>5.00</td>\n",
       "      <td>9.00</td>\n",
       "      <td>0.18</td>\n",
       "      <td>358.00</td>\n",
       "      <td>0.00</td>\n",
       "      <td>29.07</td>\n",
       "    </tr>\n",
       "    <tr>\n",
       "      <th>50%</th>\n",
       "      <td>22.00</td>\n",
       "      <td>637740.50</td>\n",
       "      <td>28969.00</td>\n",
       "      <td>536.00</td>\n",
       "      <td>2003.00</td>\n",
       "      <td>2020.00</td>\n",
       "      <td>8.00</td>\n",
       "      <td>16.00</td>\n",
       "      <td>14.00</td>\n",
       "      <td>2021.00</td>\n",
       "      <td>5.00</td>\n",
       "      <td>16.00</td>\n",
       "      <td>16.00</td>\n",
       "      <td>51.00</td>\n",
       "      <td>9.00</td>\n",
       "      <td>24.00</td>\n",
       "      <td>0.26</td>\n",
       "      <td>654.00</td>\n",
       "      <td>0.00</td>\n",
       "      <td>54.63</td>\n",
       "    </tr>\n",
       "    <tr>\n",
       "      <th>75%</th>\n",
       "      <td>24.00</td>\n",
       "      <td>1626219.25</td>\n",
       "      <td>89087.00</td>\n",
       "      <td>1676.00</td>\n",
       "      <td>6002.00</td>\n",
       "      <td>2021.00</td>\n",
       "      <td>10.00</td>\n",
       "      <td>23.00</td>\n",
       "      <td>18.00</td>\n",
       "      <td>2021.00</td>\n",
       "      <td>10.00</td>\n",
       "      <td>23.00</td>\n",
       "      <td>25.00</td>\n",
       "      <td>69.00</td>\n",
       "      <td>16.00</td>\n",
       "      <td>37.00</td>\n",
       "      <td>0.54</td>\n",
       "      <td>1229.00</td>\n",
       "      <td>0.00</td>\n",
       "      <td>98.16</td>\n",
       "    </tr>\n",
       "    <tr>\n",
       "      <th>max</th>\n",
       "      <td>29.00</td>\n",
       "      <td>264407389.00</td>\n",
       "      <td>16254784.00</td>\n",
       "      <td>12341474.00</td>\n",
       "      <td>6738572.00</td>\n",
       "      <td>2021.00</td>\n",
       "      <td>12.00</td>\n",
       "      <td>31.00</td>\n",
       "      <td>23.00</td>\n",
       "      <td>2021.00</td>\n",
       "      <td>12.00</td>\n",
       "      <td>31.00</td>\n",
       "      <td>135.00</td>\n",
       "      <td>100.00</td>\n",
       "      <td>85.00</td>\n",
       "      <td>84.00</td>\n",
       "      <td>83.00</td>\n",
       "      <td>4998.00</td>\n",
       "      <td>18.00</td>\n",
       "      <td>2120.61</td>\n",
       "    </tr>\n",
       "  </tbody>\n",
       "</table>\n",
       "</div>"
      ],
      "text/plain": [
       "       categoryId   view_count       likes    dislikes  comment_count  \\\n",
       "count   499874.00    499874.00   499874.00   499874.00      499874.00   \n",
       "mean        19.16   1977152.47   118476.23     2994.52       12231.54   \n",
       "std          6.76   5996266.65   414437.02    52657.96      110248.79   \n",
       "min          1.00         0.00        0.00        0.00           0.00   \n",
       "25%         17.00    252727.50     9571.25      191.00         694.00   \n",
       "50%         22.00    637740.50    28969.00      536.00        2003.00   \n",
       "75%         24.00   1626219.25    89087.00     1676.00        6002.00   \n",
       "max         29.00 264407389.00 16254784.00 12341474.00     6738572.00   \n",
       "\n",
       "       publishedAt_y  publishedAt_m  publishedAt_d  publishedAt_h  \\\n",
       "count      499874.00      499874.00      499874.00      499874.00   \n",
       "mean         2020.50           6.50          15.68          13.11   \n",
       "std             0.50           3.87           8.65           6.42   \n",
       "min          2020.00           1.00           1.00           0.00   \n",
       "25%          2020.00           3.00           8.00           9.00   \n",
       "50%          2020.00           8.00          16.00          14.00   \n",
       "75%          2021.00          10.00          23.00          18.00   \n",
       "max          2021.00          12.00          31.00          23.00   \n",
       "\n",
       "       trending_date_y  trending_date_m  trending_date_d    tags_n  title_len  \\\n",
       "count        499874.00        499874.00        499874.00 499874.00  499874.00   \n",
       "mean           2020.51             6.44            15.64     17.27      53.98   \n",
       "std               0.50             3.86             8.62     13.45      22.50   \n",
       "min            2020.00             1.00             1.00      0.00       1.00   \n",
       "25%            2020.00             3.00             8.00      7.00      37.00   \n",
       "50%            2021.00             5.00            16.00     16.00      51.00   \n",
       "75%            2021.00            10.00            23.00     25.00      69.00   \n",
       "max            2021.00            12.00            31.00    135.00     100.00   \n",
       "\n",
       "       title_upper  title_lower  title_case_ratio   des_len  punc_count  \\\n",
       "count    499874.00    499874.00         413762.00 493768.00   499874.00   \n",
       "mean         12.90        24.44              0.86    936.09        0.38   \n",
       "std          12.82        18.40              2.95    862.00        0.83   \n",
       "min           0.00         0.00              0.00      1.00        0.00   \n",
       "25%           5.00         9.00              0.18    358.00        0.00   \n",
       "50%           9.00        24.00              0.26    654.00        0.00   \n",
       "75%          16.00        37.00              0.54   1229.00        0.00   \n",
       "max          85.00        84.00             83.00   4998.00       18.00   \n",
       "\n",
       "       likes_dis_ratio  \n",
       "count        496060.00  \n",
       "mean             79.24  \n",
       "std              88.93  \n",
       "min               0.01  \n",
       "25%              29.07  \n",
       "50%              54.63  \n",
       "75%              98.16  \n",
       "max            2120.61  "
      ]
     },
     "execution_count": 6,
     "metadata": {},
     "output_type": "execute_result"
    }
   ],
   "source": [
    "df.describe()"
   ]
  },
  {
   "cell_type": "markdown",
   "metadata": {},
   "source": [
    "---"
   ]
  },
  {
   "cell_type": "markdown",
   "metadata": {},
   "source": [
    "# Normalizing Data"
   ]
  },
  {
   "cell_type": "code",
   "execution_count": 7,
   "metadata": {},
   "outputs": [],
   "source": [
    "def min_max_scale(df: pd.DataFrame) -> pd.DataFrame:\n",
    "    \"\"\"\n",
    "    Description: \n",
    "        - Apply min-max scaling to dataframe columns of type float\n",
    "    Inputs: \n",
    "        - df, input dataframe to be normalized\n",
    "    Returns:\n",
    "        - df, normalized dataframe\n",
    "    \"\"\"\n",
    "    \n",
    "    numbered_columns = df.select_dtypes(include=[np.number, bool]).columns     # extract columns that are of type float\n",
    "    scaler = preprocessing.MinMaxScaler()\n",
    "    df[numbered_columns] = scaler.fit_transform(df[numbered_columns])     # normalize across columns \n",
    "    return df.copy()"
   ]
  },
  {
   "cell_type": "markdown",
   "metadata": {},
   "source": [
    "---"
   ]
  },
  {
   "cell_type": "markdown",
   "metadata": {},
   "source": [
    "# Splitting Data"
   ]
  },
  {
   "cell_type": "code",
   "execution_count": 8,
   "metadata": {},
   "outputs": [],
   "source": [
    "def split_data(df: pd.DataFrame, replace_nan: int) -> list:\n",
    "    \"\"\"\n",
    "    Description: \n",
    "        - split data into training and testing datasets\n",
    "    Inputs: \n",
    "        - df, input dataframe to be split\n",
    "        - replace_nan, value to replace nan values found in input dataframe\n",
    "    Returns:\n",
    "        - split_list, list containing train-test split of input dataframe\n",
    "    \"\"\"\n",
    "    \n",
    "    df = df.replace(np.nan, replace_nan).copy()     # replace nan values\n",
    "    \n",
    "    X = df.drop(columns=df.columns[-1]).copy()     # remove categorical data\n",
    "    y = df[df.columns[-1]].copy()\n",
    "    \n",
    "    split_list = train_test_split(X, y, random_state=40, test_size=0.3)\n",
    "    \n",
    "    print('=== Train shape ===')\n",
    "    print(split_list[0].shape)\n",
    "    print()\n",
    "    \n",
    "    print('=== Test shape ===')\n",
    "    print(split_list[1].shape)\n",
    "    print()\n",
    "    \n",
    "    return split_list"
   ]
  },
  {
   "cell_type": "markdown",
   "metadata": {},
   "source": [
    "---"
   ]
  },
  {
   "cell_type": "markdown",
   "metadata": {},
   "source": [
    "# Random forest"
   ]
  },
  {
   "cell_type": "markdown",
   "metadata": {},
   "source": [
    "## Building dataset"
   ]
  },
  {
   "cell_type": "code",
   "execution_count": 9,
   "metadata": {},
   "outputs": [],
   "source": [
    "df = df_import.copy()"
   ]
  },
  {
   "cell_type": "markdown",
   "metadata": {},
   "source": [
    "### Ranging view_count"
   ]
  },
  {
   "cell_type": "code",
   "execution_count": 10,
   "metadata": {},
   "outputs": [
    {
     "data": {
      "text/plain": [
       "count      499874.00\n",
       "mean      1977152.47\n",
       "std       5996266.65\n",
       "min             0.00\n",
       "25%        252727.50\n",
       "50%        637740.50\n",
       "75%       1626219.25\n",
       "max     264407389.00\n",
       "Name: view_count, dtype: float64"
      ]
     },
     "execution_count": 10,
     "metadata": {},
     "output_type": "execute_result"
    }
   ],
   "source": [
    "df['view_count'].describe()"
   ]
  },
  {
   "cell_type": "code",
   "execution_count": 11,
   "metadata": {},
   "outputs": [],
   "source": [
    "# transform view_count to specified dictionary ranking\n",
    "\n",
    "d_view_ranks = {\n",
    "    'H':0,\n",
    "    'G':100000,\n",
    "    'F':250000, \n",
    "    'E':500000, \n",
    "    'D':1000000, \n",
    "    'C':2500000,\n",
    "    'B':5000000, \n",
    "    'A':10000000,\n",
    "}\n",
    "\n",
    "for key, value in d_view_ranks.items():\n",
    "    df.loc[df['view_count'] >= value, 'view_count_cat'] = key"
   ]
  },
  {
   "cell_type": "code",
   "execution_count": 12,
   "metadata": {},
   "outputs": [
    {
     "data": {
      "text/plain": [
       "Index(['video_id', 'title', 'publishedAt', 'channelId', 'channelTitle',\n",
       "       'categoryId', 'trending_date', 'tags', 'view_count', 'likes',\n",
       "       'dislikes', 'comment_count', 'thumbnail_link', 'comments_disabled',\n",
       "       'ratings_disabled', 'description', 'country', 'publishedAt_y',\n",
       "       'publishedAt_m', 'publishedAt_d', 'publishedAt_h', 'trending_date_y',\n",
       "       'trending_date_m', 'trending_date_d', 'publishedAt_w',\n",
       "       'trending_date_w', 'tags_n', 'title_len', 'title_upper', 'title_lower',\n",
       "       'title_case_ratio', 'des_len', 'punc_count', 'likes_dis_ratio',\n",
       "       'view_count_cat'],\n",
       "      dtype='object')"
      ]
     },
     "execution_count": 12,
     "metadata": {},
     "output_type": "execute_result"
    }
   ],
   "source": [
    "df.columns"
   ]
  },
  {
   "cell_type": "code",
   "execution_count": 13,
   "metadata": {},
   "outputs": [
    {
     "data": {
      "text/plain": [
       "video_id              object\n",
       "title                 object\n",
       "publishedAt           object\n",
       "channelId             object\n",
       "channelTitle          object\n",
       "categoryId             int64\n",
       "trending_date         object\n",
       "tags                  object\n",
       "view_count             int64\n",
       "likes                  int64\n",
       "dislikes               int64\n",
       "comment_count          int64\n",
       "thumbnail_link        object\n",
       "comments_disabled       bool\n",
       "ratings_disabled        bool\n",
       "description           object\n",
       "country               object\n",
       "publishedAt_y          int64\n",
       "publishedAt_m          int64\n",
       "publishedAt_d          int64\n",
       "publishedAt_h          int64\n",
       "trending_date_y        int64\n",
       "trending_date_m        int64\n",
       "trending_date_d        int64\n",
       "publishedAt_w         object\n",
       "trending_date_w       object\n",
       "tags_n                 int64\n",
       "title_len              int64\n",
       "title_upper            int64\n",
       "title_lower            int64\n",
       "title_case_ratio     float64\n",
       "des_len              float64\n",
       "punc_count             int64\n",
       "likes_dis_ratio      float64\n",
       "view_count_cat        object\n",
       "dtype: object"
      ]
     },
     "execution_count": 13,
     "metadata": {},
     "output_type": "execute_result"
    }
   ],
   "source": [
    "df.dtypes"
   ]
  },
  {
   "cell_type": "code",
   "execution_count": 14,
   "metadata": {},
   "outputs": [],
   "source": [
    "# change column dtype\n",
    "\n",
    "for col in 'categoryId publishedAt_m publishedAt_d publishedAt_h publishedAt_w trending_date_w'.split():\n",
    "    df[col] = df[col].astype(str)"
   ]
  },
  {
   "cell_type": "code",
   "execution_count": 15,
   "metadata": {},
   "outputs": [
    {
     "data": {
      "text/plain": [
       "Index(['video_id', 'title', 'publishedAt', 'channelId', 'channelTitle',\n",
       "       'categoryId', 'trending_date', 'tags', 'view_count', 'likes',\n",
       "       'dislikes', 'comment_count', 'thumbnail_link', 'comments_disabled',\n",
       "       'ratings_disabled', 'description', 'country', 'publishedAt_y',\n",
       "       'publishedAt_m', 'publishedAt_d', 'publishedAt_h', 'trending_date_y',\n",
       "       'trending_date_m', 'trending_date_d', 'publishedAt_w',\n",
       "       'trending_date_w', 'tags_n', 'title_len', 'title_upper', 'title_lower',\n",
       "       'title_case_ratio', 'des_len', 'punc_count', 'likes_dis_ratio',\n",
       "       'view_count_cat'],\n",
       "      dtype='object')"
      ]
     },
     "execution_count": 15,
     "metadata": {},
     "output_type": "execute_result"
    }
   ],
   "source": [
    "df.columns"
   ]
  },
  {
   "cell_type": "code",
   "execution_count": 16,
   "metadata": {},
   "outputs": [],
   "source": [
    "# use select features for modelling\n",
    "\n",
    "# with categorical\n",
    "# df = df['categoryId likes dislikes comment_count country publishedAt_m publishedAt_h publishedAt_w trending_date_w tags_n title_len title_upper title_lower title_case_ratio des_len punc_count view_count_cat'.split()].copy()\n",
    "\n",
    "# only numerical\n",
    "df = df['likes dislikes likes_dis_ratio comment_count tags_n title_len title_upper title_lower title_case_ratio des_len punc_count view_count_cat'.split()].copy()"
   ]
  },
  {
   "cell_type": "code",
   "execution_count": 17,
   "metadata": {},
   "outputs": [
    {
     "data": {
      "text/plain": [
       "likes                 int64\n",
       "dislikes              int64\n",
       "likes_dis_ratio     float64\n",
       "comment_count         int64\n",
       "tags_n                int64\n",
       "title_len             int64\n",
       "title_upper           int64\n",
       "title_lower           int64\n",
       "title_case_ratio    float64\n",
       "des_len             float64\n",
       "punc_count            int64\n",
       "view_count_cat       object\n",
       "dtype: object"
      ]
     },
     "execution_count": 17,
     "metadata": {},
     "output_type": "execute_result"
    }
   ],
   "source": [
    "df.dtypes"
   ]
  },
  {
   "cell_type": "code",
   "execution_count": 18,
   "metadata": {},
   "outputs": [
    {
     "data": {
      "text/plain": [
       "A     17011\n",
       "B     21500\n",
       "C     43681\n",
       "D    103746\n",
       "E     99101\n",
       "F     91161\n",
       "G     79625\n",
       "H     44049\n",
       "Name: view_count_cat, dtype: int64"
      ]
     },
     "execution_count": 18,
     "metadata": {},
     "output_type": "execute_result"
    }
   ],
   "source": [
    "vc = df['view_count_cat'].value_counts().sort_index()\n",
    "vc"
   ]
  },
  {
   "cell_type": "code",
   "execution_count": 19,
   "metadata": {},
   "outputs": [
    {
     "name": "stdout",
     "output_type": "stream",
     "text": [
      "ranks      view count minimum    count of videos\n",
      "-------  --------------------  -----------------\n",
      "A                    10000000              17011\n",
      "B                     5000000              21500\n",
      "C                     2500000              43681\n",
      "D                     1000000             103746\n",
      "E                      500000              99101\n",
      "F                      250000              91161\n",
      "G                      100000              79625\n",
      "H                           0              44049\n"
     ]
    }
   ],
   "source": [
    "# print out ranks, rank view count minumum, and count of videos per rank\n",
    "\n",
    "# source: https://stackoverflow.com/questions/9001509/how-can-i-sort-a-dictionary-by-key\n",
    "\n",
    "import collections\n",
    "\n",
    "d_view_ranks = dict(collections.OrderedDict(sorted(d_view_ranks.items())))     # order the dictionary by key\n",
    "d_view_ranks_keys = list(d_view_ranks.keys())\n",
    "d_view_ranks_values = list(d_view_ranks.values())\n",
    "vc_keys = list(vc.keys())\n",
    "vc_values = list(vc.values)\n",
    "data = {}\n",
    "\n",
    "\n",
    "# create dictionary of \n",
    "for i in range(len(d_view_ranks)):\n",
    "    assert d_view_ranks_keys[i] == vc_keys[i]\n",
    "    data[d_view_ranks_keys[i]] = [d_view_ranks_values[i], vc_values[i]]\n",
    "\n",
    "# print dictionary in table format\n",
    "data = [(k, v[0], v[1]) for k, v in data.items()]\n",
    "print(tabulate(data, headers=['ranks', 'view count minimum', 'count of videos']))"
   ]
  },
  {
   "cell_type": "markdown",
   "metadata": {},
   "source": [
    "### Normalizing"
   ]
  },
  {
   "cell_type": "code",
   "execution_count": 20,
   "metadata": {},
   "outputs": [
    {
     "data": {
      "text/html": [
       "<div>\n",
       "<style scoped>\n",
       "    .dataframe tbody tr th:only-of-type {\n",
       "        vertical-align: middle;\n",
       "    }\n",
       "\n",
       "    .dataframe tbody tr th {\n",
       "        vertical-align: top;\n",
       "    }\n",
       "\n",
       "    .dataframe thead th {\n",
       "        text-align: right;\n",
       "    }\n",
       "</style>\n",
       "<table border=\"1\" class=\"dataframe\">\n",
       "  <thead>\n",
       "    <tr style=\"text-align: right;\">\n",
       "      <th></th>\n",
       "      <th>likes</th>\n",
       "      <th>dislikes</th>\n",
       "      <th>likes_dis_ratio</th>\n",
       "      <th>comment_count</th>\n",
       "      <th>tags_n</th>\n",
       "      <th>title_len</th>\n",
       "      <th>title_upper</th>\n",
       "      <th>title_lower</th>\n",
       "      <th>title_case_ratio</th>\n",
       "      <th>des_len</th>\n",
       "      <th>punc_count</th>\n",
       "      <th>view_count_cat</th>\n",
       "    </tr>\n",
       "  </thead>\n",
       "  <tbody>\n",
       "    <tr>\n",
       "      <th>0</th>\n",
       "      <td>0.01</td>\n",
       "      <td>0.00</td>\n",
       "      <td>0.08</td>\n",
       "      <td>0.00</td>\n",
       "      <td>0.10</td>\n",
       "      <td>0.45</td>\n",
       "      <td>0.44</td>\n",
       "      <td>0.00</td>\n",
       "      <td>NaN</td>\n",
       "      <td>0.19</td>\n",
       "      <td>0.06</td>\n",
       "      <td>F</td>\n",
       "    </tr>\n",
       "    <tr>\n",
       "      <th>1</th>\n",
       "      <td>0.04</td>\n",
       "      <td>0.00</td>\n",
       "      <td>0.02</td>\n",
       "      <td>0.00</td>\n",
       "      <td>0.35</td>\n",
       "      <td>0.24</td>\n",
       "      <td>0.16</td>\n",
       "      <td>0.05</td>\n",
       "      <td>0.04</td>\n",
       "      <td>0.06</td>\n",
       "      <td>0.00</td>\n",
       "      <td>B</td>\n",
       "    </tr>\n",
       "    <tr>\n",
       "      <th>2</th>\n",
       "      <td>0.00</td>\n",
       "      <td>0.00</td>\n",
       "      <td>0.00</td>\n",
       "      <td>0.00</td>\n",
       "      <td>0.05</td>\n",
       "      <td>0.28</td>\n",
       "      <td>0.13</td>\n",
       "      <td>0.13</td>\n",
       "      <td>0.01</td>\n",
       "      <td>0.07</td>\n",
       "      <td>0.00</td>\n",
       "      <td>D</td>\n",
       "    </tr>\n",
       "    <tr>\n",
       "      <th>3</th>\n",
       "      <td>0.00</td>\n",
       "      <td>0.00</td>\n",
       "      <td>0.09</td>\n",
       "      <td>0.00</td>\n",
       "      <td>0.31</td>\n",
       "      <td>0.47</td>\n",
       "      <td>0.07</td>\n",
       "      <td>0.39</td>\n",
       "      <td>0.00</td>\n",
       "      <td>0.11</td>\n",
       "      <td>0.00</td>\n",
       "      <td>F</td>\n",
       "    </tr>\n",
       "    <tr>\n",
       "      <th>4</th>\n",
       "      <td>0.00</td>\n",
       "      <td>0.00</td>\n",
       "      <td>0.00</td>\n",
       "      <td>0.00</td>\n",
       "      <td>0.16</td>\n",
       "      <td>0.52</td>\n",
       "      <td>0.06</td>\n",
       "      <td>0.35</td>\n",
       "      <td>0.00</td>\n",
       "      <td>0.23</td>\n",
       "      <td>0.00</td>\n",
       "      <td>F</td>\n",
       "    </tr>\n",
       "  </tbody>\n",
       "</table>\n",
       "</div>"
      ],
      "text/plain": [
       "   likes  dislikes  likes_dis_ratio  comment_count  tags_n  title_len  \\\n",
       "0   0.01      0.00             0.08           0.00    0.10       0.45   \n",
       "1   0.04      0.00             0.02           0.00    0.35       0.24   \n",
       "2   0.00      0.00             0.00           0.00    0.05       0.28   \n",
       "3   0.00      0.00             0.09           0.00    0.31       0.47   \n",
       "4   0.00      0.00             0.00           0.00    0.16       0.52   \n",
       "\n",
       "   title_upper  title_lower  title_case_ratio  des_len  punc_count  \\\n",
       "0         0.44         0.00               NaN     0.19        0.06   \n",
       "1         0.16         0.05              0.04     0.06        0.00   \n",
       "2         0.13         0.13              0.01     0.07        0.00   \n",
       "3         0.07         0.39              0.00     0.11        0.00   \n",
       "4         0.06         0.35              0.00     0.23        0.00   \n",
       "\n",
       "  view_count_cat  \n",
       "0              F  \n",
       "1              B  \n",
       "2              D  \n",
       "3              F  \n",
       "4              F  "
      ]
     },
     "execution_count": 20,
     "metadata": {},
     "output_type": "execute_result"
    }
   ],
   "source": [
    "df_norm = min_max_scale(df.copy())\n",
    "df_norm.head()"
   ]
  },
  {
   "cell_type": "markdown",
   "metadata": {
    "tags": []
   },
   "source": [
    "## Running model"
   ]
  },
  {
   "cell_type": "code",
   "execution_count": 21,
   "metadata": {},
   "outputs": [],
   "source": [
    "def random_forest_fit(df, model_arguments):\n",
    "    \n",
    "    \n",
    "    # replacing nan value with -1\n",
    "    X_train, X_test, y_train, y_test = split_data(df, -1)\n",
    "    \n",
    "    \n",
    "    # create logistic regression model\n",
    "\n",
    "    model = RandomForestClassifier(\n",
    "        n_estimators=model_arguments['n_estimators'],\n",
    "        criterion=model_arguments['criterion'],\n",
    "        max_depth=model_arguments['max_depth'],\n",
    "        min_samples_split=model_arguments['min_samples_split'],\n",
    "        min_samples_leaf=model_arguments['min_samples_leaf'],\n",
    "        min_weight_fraction_leaf=model_arguments['min_weight_fraction_leaf'],\n",
    "        max_features=model_arguments['max_features'],\n",
    "        max_leaf_nodes=model_arguments['max_leaf_nodes'],\n",
    "        min_impurity_decrease=model_arguments['min_impurity_decrease'],\n",
    "        min_impurity_split=model_arguments['min_impurity_split'],\n",
    "        bootstrap=model_arguments['bootstrap'],\n",
    "        oob_score=model_arguments['oob_score'],\n",
    "        n_jobs=model_arguments['n_jobs'],\n",
    "        random_state=model_arguments['random_state'],\n",
    "        verbose=model_arguments['verbose'],\n",
    "        warm_start=model_arguments['warm_start'],\n",
    "        class_weight=model_arguments['class_weight'],\n",
    "        ccp_alpha=model_arguments['ccp_alpha'],\n",
    "        max_samples=model_arguments['max_samples'],\n",
    "    )\n",
    "    \n",
    "    \n",
    "    # fit data to model\n",
    "    model.fit(X_train, y_train);\n",
    "    \n",
    "    \n",
    "    return model, X_train, X_test, y_train, y_test"
   ]
  },
  {
   "cell_type": "code",
   "execution_count": 22,
   "metadata": {},
   "outputs": [
    {
     "name": "stdout",
     "output_type": "stream",
     "text": [
      "=== Train shape ===\n",
      "(349911, 11)\n",
      "\n",
      "=== Test shape ===\n",
      "(149963, 11)\n",
      "\n"
     ]
    }
   ],
   "source": [
    "random_forest_default_arguments = {\n",
    "    'n_estimators':100,\n",
    "    'criterion':'gini',\n",
    "    'max_depth':None,\n",
    "    'min_samples_split':2,\n",
    "    'min_samples_leaf':1,\n",
    "    'min_weight_fraction_leaf':0.0,\n",
    "    'max_features':'auto',\n",
    "    'max_leaf_nodes':None,\n",
    "    'min_impurity_decrease':0.0,\n",
    "    'min_impurity_split':None,\n",
    "    'bootstrap':True,\n",
    "    'oob_score':False,\n",
    "    'n_jobs':None,\n",
    "    'random_state':None,\n",
    "    'verbose':0,\n",
    "    'warm_start':False,\n",
    "    'class_weight':None,\n",
    "    'ccp_alpha':0.0,\n",
    "    'max_samples':None,\n",
    "}\n",
    "\n",
    "model, X_train, X_test, y_train, y_test = random_forest_fit(df_norm, random_forest_default_arguments)"
   ]
  },
  {
   "cell_type": "markdown",
   "metadata": {},
   "source": [
    "## Performance"
   ]
  },
  {
   "cell_type": "code",
   "execution_count": 23,
   "metadata": {},
   "outputs": [],
   "source": [
    "def model_f1(model, X_train, X_test, y_train, y_test):\n",
    "    \n",
    "    \n",
    "    # predict classes using mode\n",
    "    \n",
    "    y_pred = model.predict(X_train)\n",
    "    f1_train = round(f1_score(y_train, y_pred, zero_division=0, average='weighted'), 3)\n",
    "\n",
    "    y_pred = model.predict(X_test)\n",
    "    f1_test = round(f1_score(y_test, y_pred, zero_division=0, average='weighted'), 3)\n",
    "\n",
    "    X = pd.concat([X_train, X_test])\n",
    "    y = pd.concat([y_train, y_test])\n",
    "    f1_cv_scores = cross_val_score(model, X, y, cv=5, scoring='f1_weighted', n_jobs=-1)\n",
    "    f1_cv_mean = round(f1_cv_scores.mean(), 3)\n",
    "    \n",
    "    \n",
    "    # print scores\n",
    "    \n",
    "    print('=== Training f1-score ===')\n",
    "    print(f1_train)\n",
    "    print()\n",
    "\n",
    "    print('=== Testing f1-score ===')\n",
    "    print(f1_test)\n",
    "    print()\n",
    "\n",
    "    print('=== Cross-validating dataset f1-score ===')\n",
    "    print(f1_cv_mean)\n",
    "    \n",
    "    return y_pred, f1_train, f1_test, X, y, f1_cv_scores, f1_cv_mean"
   ]
  },
  {
   "cell_type": "code",
   "execution_count": 24,
   "metadata": {},
   "outputs": [
    {
     "name": "stdout",
     "output_type": "stream",
     "text": [
      "=== Training f1-score ===\n",
      "1.0\n",
      "\n",
      "=== Testing f1-score ===\n",
      "0.87\n",
      "\n",
      "=== Cross-validating dataset f1-score ===\n",
      "0.879\n"
     ]
    }
   ],
   "source": [
    "# get f1-scores\n",
    "\n",
    "y_pred, f1_train, f1_test, X, y, f1_cv_scores, f1_cv_mean = model_f1(model, X_train, X_test, y_train, y_test)"
   ]
  },
  {
   "cell_type": "code",
   "execution_count": 25,
   "metadata": {},
   "outputs": [
    {
     "name": "stdout",
     "output_type": "stream",
     "text": [
      "              precision    recall  f1-score   support\n",
      "\n",
      "           A       0.98      0.97      0.97      5092\n",
      "           B       0.94      0.93      0.94      6505\n",
      "           C       0.93      0.92      0.92     13058\n",
      "           D       0.90      0.93      0.91     31112\n",
      "           E       0.85      0.86      0.86     29925\n",
      "           F       0.83      0.82      0.82     27324\n",
      "           G       0.82      0.82      0.82     23743\n",
      "           H       0.89      0.82      0.86     13204\n",
      "\n",
      "    accuracy                           0.87    149963\n",
      "   macro avg       0.89      0.88      0.89    149963\n",
      "weighted avg       0.87      0.87      0.87    149963\n",
      "\n"
     ]
    }
   ],
   "source": [
    "# classification report\n",
    "\n",
    "report = classification_report(y_test, y_pred, zero_division=0)\n",
    "print(report)"
   ]
  },
  {
   "cell_type": "code",
   "execution_count": 26,
   "metadata": {},
   "outputs": [
    {
     "data": {
      "text/plain": [
       "D    31112\n",
       "E    29925\n",
       "F    27324\n",
       "G    23743\n",
       "H    13204\n",
       "C    13058\n",
       "B     6505\n",
       "A     5092\n",
       "Name: view_count_cat, dtype: int64"
      ]
     },
     "execution_count": 26,
     "metadata": {},
     "output_type": "execute_result"
    }
   ],
   "source": [
    "pd.Series(y_test).value_counts()"
   ]
  },
  {
   "cell_type": "code",
   "execution_count": 27,
   "metadata": {},
   "outputs": [],
   "source": [
    "def confusion_matricies(y_test, y_pred):\n",
    "    \n",
    "    \n",
    "    # create matrix\n",
    "    \n",
    "    labels = np.sort(pd.Series(y_test).unique())\n",
    "    cm = confusion_matrix(y_test, y_pred, labels=labels)\n",
    "    # source: https://stackoverflow.com/questions/35572000/how-can-i-plot-a-confusion-matrix\n",
    "    df_cm = pd.DataFrame(cm, index = [i for i in labels], columns = [i for i in labels])\n",
    "    \n",
    "    \n",
    "    # plot absolute values\n",
    "    \n",
    "    plt.figure(figsize = (10,5))\n",
    "    sns.heatmap(df_cm, annot=True, fmt='.0f', cmap=\"Blues\")\n",
    "    plt.tight_layout()\n",
    "    plt.show();\n",
    "    print()\n",
    "    \n",
    "    \n",
    "    # plot normalized values\n",
    "    \n",
    "    plt.figure(figsize = (10,5))\n",
    "    sns.heatmap(df_cm.apply(lambda r: r/r.sum(), axis=1), annot=True, fmt='.2f', cmap=\"Blues\")\n",
    "    plt.tight_layout()\n",
    "    plt.show();"
   ]
  },
  {
   "cell_type": "code",
   "execution_count": 28,
   "metadata": {},
   "outputs": [
    {
     "data": {
      "image/png": "[encoded data removed]",
      "text/plain": [
       "<Figure size 720x360 with 2 Axes>"
      ]
     },
     "metadata": {},
     "output_type": "display_data"
    },
    {
     "name": "stdout",
     "output_type": "stream",
     "text": [
      "\n"
     ]
    },
    {
     "data": {
      "image/png": "[encoded data removed]",
      "text/plain": [
       "<Figure size 720x360 with 2 Axes>"
      ]
     },
     "metadata": {},
     "output_type": "display_data"
    }
   ],
   "source": [
    "confusion_matricies(y_test, y_pred)"
   ]
  },
  {
   "cell_type": "markdown",
   "metadata": {},
   "source": [
    "## Feature importance"
   ]
  },
  {
   "cell_type": "code",
   "execution_count": 29,
   "metadata": {},
   "outputs": [
    {
     "data": {
      "text/html": [
       "<div>\n",
       "<style scoped>\n",
       "    .dataframe tbody tr th:only-of-type {\n",
       "        vertical-align: middle;\n",
       "    }\n",
       "\n",
       "    .dataframe tbody tr th {\n",
       "        vertical-align: top;\n",
       "    }\n",
       "\n",
       "    .dataframe thead th {\n",
       "        text-align: right;\n",
       "    }\n",
       "</style>\n",
       "<table border=\"1\" class=\"dataframe\">\n",
       "  <thead>\n",
       "    <tr style=\"text-align: right;\">\n",
       "      <th></th>\n",
       "      <th>features</th>\n",
       "      <th>importance_score</th>\n",
       "    </tr>\n",
       "  </thead>\n",
       "  <tbody>\n",
       "    <tr>\n",
       "      <th>0</th>\n",
       "      <td>likes</td>\n",
       "      <td>0.20</td>\n",
       "    </tr>\n",
       "    <tr>\n",
       "      <th>1</th>\n",
       "      <td>dislikes</td>\n",
       "      <td>0.14</td>\n",
       "    </tr>\n",
       "    <tr>\n",
       "      <th>2</th>\n",
       "      <td>likes_dis_ratio</td>\n",
       "      <td>0.11</td>\n",
       "    </tr>\n",
       "    <tr>\n",
       "      <th>3</th>\n",
       "      <td>comment_count</td>\n",
       "      <td>0.14</td>\n",
       "    </tr>\n",
       "    <tr>\n",
       "      <th>4</th>\n",
       "      <td>tags_n</td>\n",
       "      <td>0.07</td>\n",
       "    </tr>\n",
       "    <tr>\n",
       "      <th>5</th>\n",
       "      <td>title_len</td>\n",
       "      <td>0.07</td>\n",
       "    </tr>\n",
       "    <tr>\n",
       "      <th>6</th>\n",
       "      <td>title_upper</td>\n",
       "      <td>0.06</td>\n",
       "    </tr>\n",
       "    <tr>\n",
       "      <th>7</th>\n",
       "      <td>title_lower</td>\n",
       "      <td>0.06</td>\n",
       "    </tr>\n",
       "    <tr>\n",
       "      <th>8</th>\n",
       "      <td>title_case_ratio</td>\n",
       "      <td>0.06</td>\n",
       "    </tr>\n",
       "    <tr>\n",
       "      <th>9</th>\n",
       "      <td>des_len</td>\n",
       "      <td>0.08</td>\n",
       "    </tr>\n",
       "    <tr>\n",
       "      <th>10</th>\n",
       "      <td>punc_count</td>\n",
       "      <td>0.02</td>\n",
       "    </tr>\n",
       "  </tbody>\n",
       "</table>\n",
       "</div>"
      ],
      "text/plain": [
       "            features  importance_score\n",
       "0              likes              0.20\n",
       "1           dislikes              0.14\n",
       "2    likes_dis_ratio              0.11\n",
       "3      comment_count              0.14\n",
       "4             tags_n              0.07\n",
       "5          title_len              0.07\n",
       "6        title_upper              0.06\n",
       "7        title_lower              0.06\n",
       "8   title_case_ratio              0.06\n",
       "9            des_len              0.08\n",
       "10        punc_count              0.02"
      ]
     },
     "execution_count": 29,
     "metadata": {},
     "output_type": "execute_result"
    }
   ],
   "source": [
    "# find feature importance\n",
    "\n",
    "importance = pd.DataFrame(data=X_train.columns, columns=['features'])\n",
    "importance['importance_score'] = model.feature_importances_\n",
    "importance"
   ]
  },
  {
   "cell_type": "code",
   "execution_count": 30,
   "metadata": {},
   "outputs": [
    {
     "data": {
      "image/png": "[encoded data removed]",
      "text/plain": [
       "<Figure size 720x360 with 1 Axes>"
      ]
     },
     "metadata": {},
     "output_type": "display_data"
    }
   ],
   "source": [
    "sns.set(font_scale=2)\n",
    "fig, ax = plt.subplots(figsize=(10, 5))\n",
    "bp = sns.barplot(data=importance.sort_values('importance_score', ascending=False), x='importance_score', y='features', color='cornflowerblue');\n",
    "plt.tight_layout()"
   ]
  },
  {
   "cell_type": "markdown",
   "metadata": {},
   "source": [
    "---"
   ]
  }
 ],
 "metadata": {
  "kernelspec": {
   "display_name": "Python 3",
   "language": "python",
   "name": "python3"
  },
  "language_info": {
   "codemirror_mode": {
    "name": "ipython",
    "version": 3
   },
   "file_extension": ".py",
   "mimetype": "text/x-python",
   "name": "python",
   "nbconvert_exporter": "python",
   "pygments_lexer": "ipython3",
   "version": "3.8.10"
  }
 },
 "nbformat": 4,
 "nbformat_minor": 4
}
